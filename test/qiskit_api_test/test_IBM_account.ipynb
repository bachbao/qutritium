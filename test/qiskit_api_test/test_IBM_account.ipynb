{
 "cells": [
  {
   "cell_type": "code",
   "execution_count": 1,
   "metadata": {},
   "outputs": [],
   "source": [
    "from qiskit import *\n",
    "from qiskit import QuantumCircuit\n",
    "from qiskit.circuit import Gate, Parameter\n",
    "from qiskit_ibm_provider.ibm_provider import IBMProvider\n",
    "from qiskit.extensions import UnitaryGate"
   ]
  },
  {
   "cell_type": "code",
   "execution_count": null,
   "outputs": [],
   "source": [],
   "metadata": {
    "collapsed": false
   }
  },
  {
   "cell_type": "code",
   "execution_count": 2,
   "metadata": {},
   "outputs": [],
   "source": [
    "# Save token\n",
    "IBMProvider.save_account(token='b751d05f9c3522f9d46a851e2830dfa0d6087643fcdda1588b781e2f349cbaa8c6d7b1dbec1ec3262857523289bb385ee8ad7b86a83c045ca69aba6b1bc4b3d8',overwrite=True)"
   ]
  },
  {
   "cell_type": "code",
   "execution_count": 3,
   "metadata": {},
   "outputs": [
    {
     "data": {
      "text/plain": "[<IBMBackend('ibm_lagos')>,\n <IBMBackend('ibm_perth')>,\n <IBMBackend('ibmq_quito')>,\n <IBMBackend('simulator_statevector')>,\n <IBMBackend('simulator_stabilizer')>,\n <IBMBackend('ibmq_manila')>,\n <IBMBackend('ibm_nairobi')>,\n <IBMBackend('ibmq_jakarta')>,\n <IBMBackend('ibmq_qasm_simulator')>,\n <IBMBackend('ibmq_lima')>,\n <IBMBackend('ibmq_belem')>,\n <IBMBackend('simulator_extended_stabilizer')>,\n <IBMBackend('simulator_mps')>]"
     },
     "execution_count": 3,
     "metadata": {},
     "output_type": "execute_result"
    }
   ],
   "source": [
    "# Print out all the hardware available\n",
    "provider = IBMProvider()\n",
    "provider.backends()"
   ]
  },
  {
   "cell_type": "code",
   "execution_count": 17,
   "metadata": {},
   "outputs": [],
   "source": [
    "# Choose backend, in this case we choose nairobi\n",
    "backend = provider.get_backend('ibm_nairobi')"
   ]
  },
  {
   "cell_type": "code",
   "execution_count": 18,
   "metadata": {},
   "outputs": [],
   "source": [
    "from qiskit import pulse\n",
    "from qiskit.pulse.library import Gaussian\n",
    "\n",
    "with pulse.build(backend, name='hadamard') as h_q0:\n",
    "    pulse.play(Gaussian(duration=128, amp=0.1, sigma=16), pulse.drive_channel(0))\n",
    "    #pulse.play(Gaussian(duration=128, amp=0.1, sigma=16), pulse.drive_channel(1))\n",
    "frequency = Parameter('transition_freq_01')\n",
    "freq01_gate = Gate(name='Unitary', num_qubits=1, params=[frequency])\n",
    "qc_spect01 = QuantumCircuit(1, 1)\n",
    "qc_spect01.append(freq01_gate, [0])\n",
    "qc_spect01.measure(0, 0)\n",
    "qc_spect01.add_calibration(freq01_gate, [0], h_q0)"
   ]
  },
  {
   "cell_type": "code",
   "execution_count": 19,
   "metadata": {},
   "outputs": [
    {
     "name": "stderr",
     "output_type": "stream",
     "text": [
      "UsageError: Line magic function `%` not found.\n"
     ]
    }
   ],
   "source": [
    "% matplotlib inline"
   ]
  },
  {
   "cell_type": "code",
   "execution_count": 20,
   "metadata": {},
   "outputs": [
    {
     "data": {
      "text/plain": "     ┌─────────────────────────────┐┌─┐\n  q: ┤ Unitary(transition_freq_01) ├┤M├\n     └─────────────────────────────┘└╥┘\nc: 1/════════════════════════════════╩═\n                                     0 ",
      "text/html": "<pre style=\"word-wrap: normal;white-space: pre;background: #fff0;line-height: 1.1;font-family: &quot;Courier New&quot;,Courier,monospace\">     ┌─────────────────────────────┐┌─┐\n  q: ┤ Unitary(transition_freq_01) ├┤M├\n     └─────────────────────────────┘└╥┘\nc: 1/════════════════════════════════╩═\n                                     0 </pre>"
     },
     "execution_count": 20,
     "metadata": {},
     "output_type": "execute_result"
    }
   ],
   "source": [
    "qc_spect01.draw()"
   ]
  },
  {
   "cell_type": "code",
   "execution_count": null,
   "metadata": {
    "pycharm": {
     "is_executing": true
    }
   },
   "outputs": [
    {
     "name": "stdout",
     "output_type": "stream",
     "text": [
      "Job Status: job is queued (None)"
     ]
    }
   ],
   "source": [
    "from qiskit.tools.monitor import job_monitor\n",
    "job = execute(qc_spect01, backend=backend)\n",
    "job_monitor(job=job)\n",
    "# job = provider.retrieve_job(job_id='chd4u4lv6mngo8no4kf0')"
   ]
  },
  {
   "cell_type": "code",
   "execution_count": 12,
   "metadata": {},
   "outputs": [],
   "source": [
    "from qiskit.tools.visualization import plot_histogram"
   ]
  },
  {
   "cell_type": "code",
   "execution_count": 16,
   "metadata": {},
   "outputs": [
    {
     "ename": "QiskitError",
     "evalue": "'No counts for experiment \"0\"'",
     "output_type": "error",
     "traceback": [
      "\u001B[1;31m---------------------------------------------------------------------------\u001B[0m",
      "\u001B[1;31mQiskitError\u001B[0m                               Traceback (most recent call last)",
      "Cell \u001B[1;32mIn[16], line 2\u001B[0m\n\u001B[0;32m      1\u001B[0m result \u001B[38;5;241m=\u001B[39m job\u001B[38;5;241m.\u001B[39mresult()\n\u001B[1;32m----> 2\u001B[0m counts \u001B[38;5;241m=\u001B[39m \u001B[43mresult\u001B[49m\u001B[38;5;241;43m.\u001B[39;49m\u001B[43mget_counts\u001B[49m\u001B[43m(\u001B[49m\u001B[43m)\u001B[49m\n\u001B[0;32m      3\u001B[0m \u001B[38;5;28mprint\u001B[39m(counts)\n",
      "File \u001B[1;32m~\\Coding\\qutritium\\venv\\lib\\site-packages\\qiskit\\result\\result.py:289\u001B[0m, in \u001B[0;36mResult.get_counts\u001B[1;34m(self, experiment)\u001B[0m\n\u001B[0;32m    287\u001B[0m         dict_list\u001B[38;5;241m.\u001B[39mappend(statevector\u001B[38;5;241m.\u001B[39mStatevector(vec)\u001B[38;5;241m.\u001B[39mprobabilities_dict(decimals\u001B[38;5;241m=\u001B[39m\u001B[38;5;241m15\u001B[39m))\n\u001B[0;32m    288\u001B[0m     \u001B[38;5;28;01melse\u001B[39;00m:\n\u001B[1;32m--> 289\u001B[0m         \u001B[38;5;28;01mraise\u001B[39;00m QiskitError(\u001B[38;5;124mf\u001B[39m\u001B[38;5;124m'\u001B[39m\u001B[38;5;124mNo counts for experiment \u001B[39m\u001B[38;5;124m\"\u001B[39m\u001B[38;5;132;01m{\u001B[39;00m\u001B[38;5;28mrepr\u001B[39m(key)\u001B[38;5;132;01m}\u001B[39;00m\u001B[38;5;124m\"\u001B[39m\u001B[38;5;124m'\u001B[39m)\n\u001B[0;32m    291\u001B[0m \u001B[38;5;66;03m# Return first item of dict_list if size is 1\u001B[39;00m\n\u001B[0;32m    292\u001B[0m \u001B[38;5;28;01mif\u001B[39;00m \u001B[38;5;28mlen\u001B[39m(dict_list) \u001B[38;5;241m==\u001B[39m \u001B[38;5;241m1\u001B[39m:\n",
      "\u001B[1;31mQiskitError\u001B[0m: 'No counts for experiment \"0\"'"
     ]
    }
   ],
   "source": [
    "result = job.result()\n",
    "counts = result.get_counts()\n",
    "print(counts)"
   ]
  },
  {
   "cell_type": "code",
   "execution_count": null,
   "outputs": [],
   "source": [],
   "metadata": {
    "collapsed": false
   }
  }
 ],
 "metadata": {
  "kernelspec": {
   "display_name": "Python 3 (ipykernel)",
   "language": "python",
   "name": "python3"
  },
  "language_info": {
   "codemirror_mode": {
    "name": "ipython",
    "version": 3
   },
   "file_extension": ".py",
   "mimetype": "text/x-python",
   "name": "python",
   "nbconvert_exporter": "python",
   "pygments_lexer": "ipython3",
   "version": "3.9.7"
  }
 },
 "nbformat": 4,
 "nbformat_minor": 1
}

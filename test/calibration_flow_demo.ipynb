{
 "cells": [
  {
   "cell_type": "code",
   "execution_count": 1,
   "outputs": [
    {
     "name": "stdout",
     "output_type": "stream",
     "text": [
      "C:\\Users\\reach\\Coding\\qutrit\n"
     ]
    }
   ],
   "source": [
    "import os\n",
    "\n",
    "# get the current working directory\n",
    "current_dir = os.getcwd()\n",
    "\n",
    "# navigate to the parent directory\n",
    "os.chdir(os.path.abspath(os.path.join(current_dir, os.pardir)))\n",
    "print(os.getcwd())"
   ],
   "metadata": {
    "collapsed": false
   }
  },
  {
   "cell_type": "code",
   "execution_count": 2,
   "metadata": {
    "collapsed": true
   },
   "outputs": [],
   "source": [
    "from src.calibration.transmission_reflection import TR_01, TR_12\n",
    "from src.calibration.rough_rabi import Rough_Rabi01, Rough_Rabi12\n",
    "from src.calibration.drag_dephase import DragDP01, DragDP12\n",
    "from src.calibration.drag_leakage import DragLK01, DragLK12\n",
    "from src.pulse import Pulse01, Pulse12"
   ]
  },
  {
   "cell_type": "code",
   "execution_count": 3,
   "outputs": [
    {
     "name": "stdout",
     "output_type": "stream",
     "text": [
      "Job Status: job has successfully run\n",
      "Process run successfully!\n"
     ]
    },
    {
     "name": "stderr",
     "output_type": "stream",
     "text": [
      "C:\\Users\\reach\\Coding\\Qutrit\\venv\\lib\\site-packages\\scipy\\optimize\\_minpack_py.py:906: OptimizeWarning: Covariance of the parameters could not be estimated\n",
      "  warnings.warn('Covariance of the parameters could not be estimated',\n"
     ]
    },
    {
     "data": {
      "text/plain": "Pulse01: id=d03b6924-7ff6-49a7-8284-558b7ad403ac, frequency=4900000000.0, x_amp=0, sx_amp=0, beta_dephase=0, beta_leakage=0, duration=144, sigma=36.0"
     },
     "execution_count": 3,
     "metadata": {},
     "output_type": "execute_result"
    }
   ],
   "source": [
    "pulse01 = Pulse01(duration=144)\n",
    "tr_01 = TR_01(pulse_model=pulse01)\n",
    "tr_01.run()\n",
    "# tr_01.set_up()\n",
    "# tr_01.analyze(job_id='641c8fbc92197c3220e1b647')\n",
    "# tr_01.modify_pulse_model(job_id='641c8fbc92197c3220e1b647')\n",
    "pulse01"
   ],
   "metadata": {
    "collapsed": false
   }
  },
  {
   "cell_type": "code",
   "execution_count": 4,
   "outputs": [
    {
     "data": {
      "text/plain": "Pulse01: frequency=4900000000.0, x_amp=0.27789268017955304, sx_amp=0, beta_dephase=0, beta_leakage=0, duration=144, sigma=36.0"
     },
     "execution_count": 4,
     "metadata": {},
     "output_type": "execute_result"
    }
   ],
   "source": [
    "rr_01 = Rough_Rabi01(pulse_model=pulse01)\n",
    "# rr_01.run()\n",
    "rr_01.modify_pulse_model(job_id='641c8fbc92197c3220e1b647')\n",
    "pulse01"
   ],
   "metadata": {
    "collapsed": false
   }
  },
  {
   "cell_type": "code",
   "execution_count": 5,
   "outputs": [
    {
     "data": {
      "text/plain": "Pulse12: frequency=4800000000.0, x_amp=0, sx_amp=0, beta_dephase=0, beta_leakage=0, duration=144, sigma=36.0"
     },
     "execution_count": 5,
     "metadata": {},
     "output_type": "execute_result"
    }
   ],
   "source": [
    "pulse12 = Pulse12(pulse01=pulse01, duration=pulse01.duration)\n",
    "pulse12.x_amp = ...\n",
    "tr_12 = TR_12(pulse_model=pulse12)\n",
    "tr_12.set_up()\n",
    "# tr_12.run()\n",
    "tr_12.modify_pulse_model(job_id='641d860ccca68020ebc69bdf')\n",
    "pulse01.pulse12"
   ],
   "metadata": {
    "collapsed": false
   }
  },
  {
   "cell_type": "code",
   "execution_count": 6,
   "outputs": [
    {
     "data": {
      "text/plain": "Pulse12: frequency=4800000000.0, x_amp=0.28655972253635953, sx_amp=0, beta_dephase=0, beta_leakage=0, duration=144, sigma=36.0"
     },
     "execution_count": 6,
     "metadata": {},
     "output_type": "execute_result"
    }
   ],
   "source": [
    "rr_12 = Rough_Rabi12(pulse_model=pulse12)\n",
    "# rr_12.run()\n",
    "rr_12.modify_pulse_model(job_id='641dab4d92197c965be1b933')\n",
    "pulse12"
   ],
   "metadata": {
    "collapsed": false
   }
  },
  {
   "cell_type": "code",
   "execution_count": 7,
   "outputs": [
    {
     "ename": "TypeError",
     "evalue": "can't multiply sequence by non-int of type 'complex'",
     "output_type": "error",
     "traceback": [
      "\u001B[1;31m---------------------------------------------------------------------------\u001B[0m",
      "\u001B[1;31mTypeError\u001B[0m                                 Traceback (most recent call last)",
      "Cell \u001B[1;32mIn[7], line 2\u001B[0m\n\u001B[0;32m      1\u001B[0m dp_01 \u001B[38;5;241m=\u001B[39m DragDP01(pulse_model\u001B[38;5;241m=\u001B[39mpulse01)\n\u001B[1;32m----> 2\u001B[0m \u001B[43mdp_01\u001B[49m\u001B[38;5;241;43m.\u001B[39;49m\u001B[43mrun\u001B[49m\u001B[43m(\u001B[49m\u001B[43m)\u001B[49m\n\u001B[0;32m      3\u001B[0m pulse01\n",
      "File \u001B[1;32m~\\Coding\\qutrit\\src\\calibration\\drag_dephase.py:184\u001B[0m, in \u001B[0;36mDragDP01.run\u001B[1;34m(self)\u001B[0m\n\u001B[0;32m    179\u001B[0m \u001B[38;5;28;01mdef\u001B[39;00m \u001B[38;5;21mrun\u001B[39m(\u001B[38;5;28mself\u001B[39m) \u001B[38;5;241m-\u001B[39m\u001B[38;5;241m>\u001B[39m \u001B[38;5;28;01mNone\u001B[39;00m:\n\u001B[0;32m    180\u001B[0m \u001B[38;5;250m    \u001B[39m\u001B[38;5;124;03m\"\"\"\u001B[39;00m\n\u001B[0;32m    181\u001B[0m \n\u001B[0;32m    182\u001B[0m \u001B[38;5;124;03m    :return:\u001B[39;00m\n\u001B[0;32m    183\u001B[0m \u001B[38;5;124;03m    \"\"\"\u001B[39;00m\n\u001B[1;32m--> 184\u001B[0m     \u001B[38;5;28;43msuper\u001B[39;49m\u001B[43m(\u001B[49m\u001B[43m)\u001B[49m\u001B[38;5;241;43m.\u001B[39;49m\u001B[43mrun\u001B[49m\u001B[43m(\u001B[49m\u001B[43m)\u001B[49m\n",
      "File \u001B[1;32m~\\Coding\\qutrit\\src\\calibration\\drag_dephase.py:142\u001B[0m, in \u001B[0;36mDragDP.run\u001B[1;34m(self)\u001B[0m\n\u001B[0;32m    140\u001B[0m \u001B[38;5;28mself\u001B[39m\u001B[38;5;241m.\u001B[39mset_up()\n\u001B[0;32m    141\u001B[0m \u001B[38;5;28mself\u001B[39m\u001B[38;5;241m.\u001B[39mdp_create_circuit()\n\u001B[1;32m--> 142\u001B[0m \u001B[38;5;28;43mself\u001B[39;49m\u001B[38;5;241;43m.\u001B[39;49m\u001B[43mrun_monitor\u001B[49m\u001B[43m(\u001B[49m\u001B[43m)\u001B[49m\n\u001B[0;32m    143\u001B[0m \u001B[38;5;28mself\u001B[39m\u001B[38;5;241m.\u001B[39mmodify_pulse_model()\n\u001B[0;32m    144\u001B[0m \u001B[38;5;28mprint\u001B[39m(\u001B[38;5;124m\"\u001B[39m\u001B[38;5;124mProcess run successfully!\u001B[39m\u001B[38;5;124m\"\u001B[39m)\n",
      "File \u001B[1;32m~\\Coding\\qutrit\\src\\calibration\\drag_dephase.py:163\u001B[0m, in \u001B[0;36mDragDP.run_monitor\u001B[1;34m(self)\u001B[0m\n\u001B[0;32m    158\u001B[0m \u001B[38;5;28;01mdef\u001B[39;00m \u001B[38;5;21mrun_monitor\u001B[39m(\u001B[38;5;28mself\u001B[39m) \u001B[38;5;241m-\u001B[39m\u001B[38;5;241m>\u001B[39m \u001B[38;5;28;01mNone\u001B[39;00m:\n\u001B[0;32m    159\u001B[0m \u001B[38;5;250m    \u001B[39m\u001B[38;5;124;03m\"\"\"\u001B[39;00m\n\u001B[0;32m    160\u001B[0m \n\u001B[0;32m    161\u001B[0m \u001B[38;5;124;03m    :return:\u001B[39;00m\n\u001B[0;32m    162\u001B[0m \u001B[38;5;124;03m    \"\"\"\u001B[39;00m\n\u001B[1;32m--> 163\u001B[0m     submitted_job \u001B[38;5;241m=\u001B[39m \u001B[43mbackend\u001B[49m\u001B[38;5;241;43m.\u001B[39;49m\u001B[43mrun\u001B[49m\u001B[43m(\u001B[49m\u001B[38;5;28;43mself\u001B[39;49m\u001B[38;5;241;43m.\u001B[39;49m\u001B[43mpackage\u001B[49m\u001B[43m,\u001B[49m\n\u001B[0;32m    164\u001B[0m \u001B[43m                                \u001B[49m\u001B[43mmeas_level\u001B[49m\u001B[38;5;241;43m=\u001B[39;49m\u001B[38;5;241;43m1\u001B[39;49m\u001B[43m,\u001B[49m\n\u001B[0;32m    165\u001B[0m \u001B[43m                                \u001B[49m\u001B[43mmeas_return\u001B[49m\u001B[38;5;241;43m=\u001B[39;49m\u001B[38;5;124;43m'\u001B[39;49m\u001B[38;5;124;43msingle\u001B[39;49m\u001B[38;5;124;43m'\u001B[39;49m\u001B[43m,\u001B[49m\n\u001B[0;32m    166\u001B[0m \u001B[43m                                \u001B[49m\u001B[43mshots\u001B[49m\u001B[38;5;241;43m=\u001B[39;49m\u001B[38;5;28;43mself\u001B[39;49m\u001B[38;5;241;43m.\u001B[39;49m\u001B[43mnum_shots\u001B[49m\u001B[43m)\u001B[49m\n\u001B[0;32m    167\u001B[0m     \u001B[38;5;28mself\u001B[39m\u001B[38;5;241m.\u001B[39msubmitted_job_id \u001B[38;5;241m=\u001B[39m submitted_job\u001B[38;5;241m.\u001B[39mjob_id()\n\u001B[0;32m    168\u001B[0m     job_monitor(submitted_job)\n",
      "File \u001B[1;32m~\\Coding\\Qutrit\\venv\\lib\\site-packages\\qiskit\\utils\\deprecation.py:28\u001B[0m, in \u001B[0;36mdeprecate_arguments.<locals>.decorator.<locals>.wrapper\u001B[1;34m(*args, **kwargs)\u001B[0m\n\u001B[0;32m     26\u001B[0m \u001B[38;5;28;01mif\u001B[39;00m kwargs:\n\u001B[0;32m     27\u001B[0m     _rename_kwargs(func\u001B[38;5;241m.\u001B[39m\u001B[38;5;18m__name__\u001B[39m, kwargs, kwarg_map, category)\n\u001B[1;32m---> 28\u001B[0m \u001B[38;5;28;01mreturn\u001B[39;00m func(\u001B[38;5;241m*\u001B[39margs, \u001B[38;5;241m*\u001B[39m\u001B[38;5;241m*\u001B[39mkwargs)\n",
      "File \u001B[1;32m~\\Coding\\Qutrit\\venv\\lib\\site-packages\\qiskit\\providers\\ibmq\\ibmqbackend.py:336\u001B[0m, in \u001B[0;36mIBMQBackend.run\u001B[1;34m(self, circuits, job_name, job_share_level, job_tags, experiment_id, header, shots, memory, qubit_lo_freq, meas_lo_freq, schedule_los, meas_level, meas_return, memory_slots, memory_slot_size, rep_time, rep_delay, init_qubits, parameter_binds, use_measure_esp, live_data_enabled, **run_config)\u001B[0m\n\u001B[0;32m    334\u001B[0m     \u001B[38;5;28;01mif\u001B[39;00m sim_method \u001B[38;5;129;01mand\u001B[39;00m \u001B[38;5;124m'\u001B[39m\u001B[38;5;124mmethod\u001B[39m\u001B[38;5;124m'\u001B[39m \u001B[38;5;129;01mnot\u001B[39;00m \u001B[38;5;129;01min\u001B[39;00m run_config_dict:\n\u001B[0;32m    335\u001B[0m         run_config_dict[\u001B[38;5;124m'\u001B[39m\u001B[38;5;124mmethod\u001B[39m\u001B[38;5;124m'\u001B[39m] \u001B[38;5;241m=\u001B[39m sim_method\n\u001B[1;32m--> 336\u001B[0m     qobj \u001B[38;5;241m=\u001B[39m assemble(circuits, \u001B[38;5;28mself\u001B[39m, \u001B[38;5;241m*\u001B[39m\u001B[38;5;241m*\u001B[39mrun_config_dict)\n\u001B[0;32m    338\u001B[0m \u001B[38;5;28;01mreturn\u001B[39;00m \u001B[38;5;28mself\u001B[39m\u001B[38;5;241m.\u001B[39m_submit_job(qobj, job_name, job_tags, experiment_id, live_data_enabled)\n",
      "File \u001B[1;32m~\\Coding\\Qutrit\\venv\\lib\\site-packages\\qiskit\\compiler\\assembler.py:208\u001B[0m, in \u001B[0;36massemble\u001B[1;34m(experiments, backend, qobj_id, qobj_header, shots, memory, max_credits, seed_simulator, qubit_lo_freq, meas_lo_freq, qubit_lo_range, meas_lo_range, schedule_los, meas_level, meas_return, meas_map, memory_slot_size, rep_time, rep_delay, parameter_binds, parametric_pulses, init_qubits, **run_config)\u001B[0m\n\u001B[0;32m    206\u001B[0m     end_time \u001B[38;5;241m=\u001B[39m time()\n\u001B[0;32m    207\u001B[0m     _log_assembly_time(start_time, end_time)\n\u001B[1;32m--> 208\u001B[0m     \u001B[38;5;28;01mreturn\u001B[39;00m \u001B[43massemble_circuits\u001B[49m\u001B[43m(\u001B[49m\n\u001B[0;32m    209\u001B[0m \u001B[43m        \u001B[49m\u001B[43mcircuits\u001B[49m\u001B[38;5;241;43m=\u001B[39;49m\u001B[43mbound_experiments\u001B[49m\u001B[43m,\u001B[49m\n\u001B[0;32m    210\u001B[0m \u001B[43m        \u001B[49m\u001B[43mqobj_id\u001B[49m\u001B[38;5;241;43m=\u001B[39;49m\u001B[43mqobj_id\u001B[49m\u001B[43m,\u001B[49m\n\u001B[0;32m    211\u001B[0m \u001B[43m        \u001B[49m\u001B[43mqobj_header\u001B[49m\u001B[38;5;241;43m=\u001B[39;49m\u001B[43mqobj_header\u001B[49m\u001B[43m,\u001B[49m\n\u001B[0;32m    212\u001B[0m \u001B[43m        \u001B[49m\u001B[43mrun_config\u001B[49m\u001B[38;5;241;43m=\u001B[39;49m\u001B[43mrun_config\u001B[49m\u001B[43m,\u001B[49m\n\u001B[0;32m    213\u001B[0m \u001B[43m    \u001B[49m\u001B[43m)\u001B[49m\n\u001B[0;32m    215\u001B[0m \u001B[38;5;28;01melif\u001B[39;00m \u001B[38;5;28mall\u001B[39m(\u001B[38;5;28misinstance\u001B[39m(exp, (ScheduleBlock, Schedule, Instruction)) \u001B[38;5;28;01mfor\u001B[39;00m exp \u001B[38;5;129;01min\u001B[39;00m experiments):\n\u001B[0;32m    216\u001B[0m     run_config \u001B[38;5;241m=\u001B[39m _parse_pulse_args(\n\u001B[0;32m    217\u001B[0m         backend,\n\u001B[0;32m    218\u001B[0m         meas_level,\n\u001B[1;32m   (...)\u001B[0m\n\u001B[0;32m    224\u001B[0m         \u001B[38;5;241m*\u001B[39m\u001B[38;5;241m*\u001B[39mrun_config_common_dict,\n\u001B[0;32m    225\u001B[0m     )\n",
      "File \u001B[1;32m~\\Coding\\Qutrit\\venv\\lib\\site-packages\\qiskit\\assembler\\assemble_circuits.py:337\u001B[0m, in \u001B[0;36massemble_circuits\u001B[1;34m(circuits, run_config, qobj_id, qobj_header)\u001B[0m\n\u001B[0;32m    305\u001B[0m \u001B[38;5;250m\u001B[39m\u001B[38;5;124;03m\"\"\"Assembles a list of circuits into a qobj that can be run on the backend.\u001B[39;00m\n\u001B[0;32m    306\u001B[0m \n\u001B[0;32m    307\u001B[0m \u001B[38;5;124;03mArgs:\u001B[39;00m\n\u001B[1;32m   (...)\u001B[0m\n\u001B[0;32m    334\u001B[0m \u001B[38;5;124;03m                                 run_config=RunConfig(shots=2000, memory=True, init_qubits=True))\u001B[39;00m\n\u001B[0;32m    335\u001B[0m \u001B[38;5;124;03m\"\"\"\u001B[39;00m\n\u001B[0;32m    336\u001B[0m \u001B[38;5;66;03m# assemble the circuit experiments\u001B[39;00m\n\u001B[1;32m--> 337\u001B[0m experiments_and_pulse_libs \u001B[38;5;241m=\u001B[39m \u001B[43mparallel_map\u001B[49m\u001B[43m(\u001B[49m\u001B[43m_assemble_circuit\u001B[49m\u001B[43m,\u001B[49m\u001B[43m \u001B[49m\u001B[43mcircuits\u001B[49m\u001B[43m,\u001B[49m\u001B[43m \u001B[49m\u001B[43m[\u001B[49m\u001B[43mrun_config\u001B[49m\u001B[43m]\u001B[49m\u001B[43m)\u001B[49m\n\u001B[0;32m    338\u001B[0m experiments \u001B[38;5;241m=\u001B[39m []\n\u001B[0;32m    339\u001B[0m pulse_library \u001B[38;5;241m=\u001B[39m {}\n",
      "File \u001B[1;32m~\\Coding\\Qutrit\\venv\\lib\\site-packages\\qiskit\\tools\\parallel.py:197\u001B[0m, in \u001B[0;36mparallel_map\u001B[1;34m(task, values, task_args, task_kwargs, num_processes)\u001B[0m\n\u001B[0;32m    195\u001B[0m results \u001B[38;5;241m=\u001B[39m []\n\u001B[0;32m    196\u001B[0m \u001B[38;5;28;01mfor\u001B[39;00m _, value \u001B[38;5;129;01min\u001B[39;00m \u001B[38;5;28menumerate\u001B[39m(values):\n\u001B[1;32m--> 197\u001B[0m     result \u001B[38;5;241m=\u001B[39m task(value, \u001B[38;5;241m*\u001B[39mtask_args, \u001B[38;5;241m*\u001B[39m\u001B[38;5;241m*\u001B[39mtask_kwargs)\n\u001B[0;32m    198\u001B[0m     results\u001B[38;5;241m.\u001B[39mappend(result)\n\u001B[0;32m    199\u001B[0m     _callback(\u001B[38;5;241m0\u001B[39m)\n",
      "File \u001B[1;32m~\\Coding\\Qutrit\\venv\\lib\\site-packages\\qiskit\\assembler\\assemble_circuits.py:104\u001B[0m, in \u001B[0;36m_assemble_circuit\u001B[1;34m(circuit, run_config)\u001B[0m\n\u001B[0;32m    102\u001B[0m \u001B[38;5;66;03m# TODO: why do we need n_qubits and memory_slots in both the header and the config\u001B[39;00m\n\u001B[0;32m    103\u001B[0m config \u001B[38;5;241m=\u001B[39m QasmQobjExperimentConfig(n_qubits\u001B[38;5;241m=\u001B[39mnum_qubits, memory_slots\u001B[38;5;241m=\u001B[39mmemory_slots)\n\u001B[1;32m--> 104\u001B[0m calibrations, pulse_library \u001B[38;5;241m=\u001B[39m \u001B[43m_assemble_pulse_gates\u001B[49m\u001B[43m(\u001B[49m\u001B[43mcircuit\u001B[49m\u001B[43m,\u001B[49m\u001B[43m \u001B[49m\u001B[43mrun_config\u001B[49m\u001B[43m)\u001B[49m\n\u001B[0;32m    105\u001B[0m \u001B[38;5;28;01mif\u001B[39;00m calibrations:\n\u001B[0;32m    106\u001B[0m     config\u001B[38;5;241m.\u001B[39mcalibrations \u001B[38;5;241m=\u001B[39m calibrations\n",
      "File \u001B[1;32m~\\Coding\\Qutrit\\venv\\lib\\site-packages\\qiskit\\assembler\\assemble_circuits.py:196\u001B[0m, in \u001B[0;36m_assemble_pulse_gates\u001B[1;34m(circuit, run_config)\u001B[0m\n\u001B[0;32m    194\u001B[0m \u001B[38;5;28;01mfor\u001B[39;00m gate, cals \u001B[38;5;129;01min\u001B[39;00m circuit\u001B[38;5;241m.\u001B[39mcalibrations\u001B[38;5;241m.\u001B[39mitems():\n\u001B[0;32m    195\u001B[0m     \u001B[38;5;28;01mfor\u001B[39;00m (qubits, params), schedule \u001B[38;5;129;01min\u001B[39;00m cals\u001B[38;5;241m.\u001B[39mitems():\n\u001B[1;32m--> 196\u001B[0m         qobj_instructions, _ \u001B[38;5;241m=\u001B[39m \u001B[43m_assemble_schedule\u001B[49m\u001B[43m(\u001B[49m\n\u001B[0;32m    197\u001B[0m \u001B[43m            \u001B[49m\u001B[43mschedule\u001B[49m\u001B[43m,\u001B[49m\n\u001B[0;32m    198\u001B[0m \u001B[43m            \u001B[49m\u001B[43mconverters\u001B[49m\u001B[38;5;241;43m.\u001B[39;49m\u001B[43mInstructionToQobjConverter\u001B[49m\u001B[43m(\u001B[49m\u001B[43mPulseQobjInstruction\u001B[49m\u001B[43m)\u001B[49m\u001B[43m,\u001B[49m\n\u001B[0;32m    199\u001B[0m \u001B[43m            \u001B[49m\u001B[43mrun_config\u001B[49m\u001B[43m,\u001B[49m\n\u001B[0;32m    200\u001B[0m \u001B[43m            \u001B[49m\u001B[43mpulse_library\u001B[49m\u001B[43m,\u001B[49m\n\u001B[0;32m    201\u001B[0m \u001B[43m        \u001B[49m\u001B[43m)\u001B[49m\n\u001B[0;32m    202\u001B[0m         calibrations\u001B[38;5;241m.\u001B[39mappend(\n\u001B[0;32m    203\u001B[0m             GateCalibration(\u001B[38;5;28mstr\u001B[39m(gate), \u001B[38;5;28mlist\u001B[39m(qubits), \u001B[38;5;28mlist\u001B[39m(params), qobj_instructions)\n\u001B[0;32m    204\u001B[0m         )\n\u001B[0;32m    205\u001B[0m \u001B[38;5;28;01mreturn\u001B[39;00m QasmExperimentCalibrations(gates\u001B[38;5;241m=\u001B[39mcalibrations), pulse_library\n",
      "File \u001B[1;32m~\\Coding\\Qutrit\\venv\\lib\\site-packages\\qiskit\\assembler\\assemble_schedules.py:267\u001B[0m, in \u001B[0;36m_assemble_instructions\u001B[1;34m(sched, instruction_converter, run_config, user_pulselib)\u001B[0m\n\u001B[0;32m    264\u001B[0m         acquire_instruction_map[(time, instruction\u001B[38;5;241m.\u001B[39mduration)]\u001B[38;5;241m.\u001B[39mappend(instruction)\n\u001B[0;32m    265\u001B[0m         \u001B[38;5;28;01mcontinue\u001B[39;00m\n\u001B[1;32m--> 267\u001B[0m     qobj_instructions\u001B[38;5;241m.\u001B[39mappend(\u001B[43minstruction_converter\u001B[49m\u001B[43m(\u001B[49m\u001B[43mtime\u001B[49m\u001B[43m,\u001B[49m\u001B[43m \u001B[49m\u001B[43minstruction\u001B[49m\u001B[43m)\u001B[49m)\n\u001B[0;32m    269\u001B[0m \u001B[38;5;28;01mif\u001B[39;00m acquire_instruction_map:\n\u001B[0;32m    270\u001B[0m     \u001B[38;5;28;01mif\u001B[39;00m \u001B[38;5;28mhasattr\u001B[39m(run_config, \u001B[38;5;124m\"\u001B[39m\u001B[38;5;124mmeas_map\u001B[39m\u001B[38;5;124m\"\u001B[39m):\n",
      "File \u001B[1;32m~\\Coding\\Qutrit\\venv\\lib\\site-packages\\qiskit\\qobj\\converters\\pulse_instruction.py:161\u001B[0m, in \u001B[0;36mInstructionToQobjConverter.__call__\u001B[1;34m(self, shift, instruction)\u001B[0m\n\u001B[0;32m    155\u001B[0m         \u001B[38;5;28;01mreturn\u001B[39;00m \u001B[38;5;28mself\u001B[39m\u001B[38;5;241m.\u001B[39m_convert_bundled_acquire(\n\u001B[0;32m    156\u001B[0m             instruction_bundle\u001B[38;5;241m=\u001B[39minstruction,\n\u001B[0;32m    157\u001B[0m             time_offset\u001B[38;5;241m=\u001B[39mshift,\n\u001B[0;32m    158\u001B[0m         )\n\u001B[0;32m    159\u001B[0m     \u001B[38;5;28;01mraise\u001B[39;00m QiskitError(\u001B[38;5;124m\"\u001B[39m\u001B[38;5;124mBundle of instruction is not supported except for Acquire.\u001B[39m\u001B[38;5;124m\"\u001B[39m)\n\u001B[1;32m--> 161\u001B[0m \u001B[38;5;28;01mreturn\u001B[39;00m \u001B[38;5;28;43mself\u001B[39;49m\u001B[38;5;241;43m.\u001B[39;49m\u001B[43m_convert_instruction\u001B[49m\u001B[43m(\u001B[49m\u001B[43minstruction\u001B[49m\u001B[43m,\u001B[49m\u001B[43m \u001B[49m\u001B[43mshift\u001B[49m\u001B[43m)\u001B[49m\n",
      "File \u001B[1;32m~\\AppData\\Local\\Programs\\Python\\Python39\\lib\\functools.py:914\u001B[0m, in \u001B[0;36msingledispatchmethod.__get__.<locals>._method\u001B[1;34m(*args, **kwargs)\u001B[0m\n\u001B[0;32m    912\u001B[0m \u001B[38;5;28;01mdef\u001B[39;00m \u001B[38;5;21m_method\u001B[39m(\u001B[38;5;241m*\u001B[39margs, \u001B[38;5;241m*\u001B[39m\u001B[38;5;241m*\u001B[39mkwargs):\n\u001B[0;32m    913\u001B[0m     method \u001B[38;5;241m=\u001B[39m \u001B[38;5;28mself\u001B[39m\u001B[38;5;241m.\u001B[39mdispatcher\u001B[38;5;241m.\u001B[39mdispatch(args[\u001B[38;5;241m0\u001B[39m]\u001B[38;5;241m.\u001B[39m\u001B[38;5;18m__class__\u001B[39m)\n\u001B[1;32m--> 914\u001B[0m     \u001B[38;5;28;01mreturn\u001B[39;00m method\u001B[38;5;241m.\u001B[39m\u001B[38;5;21m__get__\u001B[39m(obj, \u001B[38;5;28mcls\u001B[39m)(\u001B[38;5;241m*\u001B[39margs, \u001B[38;5;241m*\u001B[39m\u001B[38;5;241m*\u001B[39mkwargs)\n",
      "File \u001B[1;32m~\\Coding\\Qutrit\\venv\\lib\\site-packages\\qiskit\\qobj\\converters\\pulse_instruction.py:365\u001B[0m, in \u001B[0;36mInstructionToQobjConverter._convert_play\u001B[1;34m(self, instruction, time_offset)\u001B[0m\n\u001B[0;32m    363\u001B[0m \u001B[38;5;66;03m# IBM backends expect \"amp\" to be the complex amplitude\u001B[39;00m\n\u001B[0;32m    364\u001B[0m \u001B[38;5;28;01mif\u001B[39;00m \u001B[38;5;124m\"\u001B[39m\u001B[38;5;124mamp\u001B[39m\u001B[38;5;124m\"\u001B[39m \u001B[38;5;129;01min\u001B[39;00m params \u001B[38;5;129;01mand\u001B[39;00m \u001B[38;5;124m\"\u001B[39m\u001B[38;5;124mangle\u001B[39m\u001B[38;5;124m\"\u001B[39m \u001B[38;5;129;01min\u001B[39;00m params:\n\u001B[1;32m--> 365\u001B[0m     params[\u001B[38;5;124m\"\u001B[39m\u001B[38;5;124mamp\u001B[39m\u001B[38;5;124m\"\u001B[39m] \u001B[38;5;241m=\u001B[39m \u001B[38;5;28mcomplex\u001B[39m(params[\u001B[38;5;124m\"\u001B[39m\u001B[38;5;124mamp\u001B[39m\u001B[38;5;124m\"\u001B[39m] \u001B[38;5;241m*\u001B[39m np\u001B[38;5;241m.\u001B[39mexp(\u001B[38;5;241;43m1\u001B[39;49m\u001B[43mj\u001B[49m\u001B[43m \u001B[49m\u001B[38;5;241;43m*\u001B[39;49m\u001B[43m \u001B[49m\u001B[43mparams\u001B[49m\u001B[43m[\u001B[49m\u001B[38;5;124;43m\"\u001B[39;49m\u001B[38;5;124;43mangle\u001B[39;49m\u001B[38;5;124;43m\"\u001B[39;49m\u001B[43m]\u001B[49m))\n\u001B[0;32m    366\u001B[0m     \u001B[38;5;28;01mdel\u001B[39;00m params[\u001B[38;5;124m\"\u001B[39m\u001B[38;5;124mangle\u001B[39m\u001B[38;5;124m\"\u001B[39m]\n\u001B[0;32m    368\u001B[0m command_dict \u001B[38;5;241m=\u001B[39m {\n\u001B[0;32m    369\u001B[0m     \u001B[38;5;124m\"\u001B[39m\u001B[38;5;124mname\u001B[39m\u001B[38;5;124m\"\u001B[39m: \u001B[38;5;124m\"\u001B[39m\u001B[38;5;124mparametric_pulse\u001B[39m\u001B[38;5;124m\"\u001B[39m,\n\u001B[0;32m    370\u001B[0m     \u001B[38;5;124m\"\u001B[39m\u001B[38;5;124mpulse_shape\u001B[39m\u001B[38;5;124m\"\u001B[39m: ParametricPulseShapes\u001B[38;5;241m.\u001B[39mfrom_instance(instruction\u001B[38;5;241m.\u001B[39mpulse)\u001B[38;5;241m.\u001B[39mname,\n\u001B[1;32m   (...)\u001B[0m\n\u001B[0;32m    373\u001B[0m     \u001B[38;5;124m\"\u001B[39m\u001B[38;5;124mparameters\u001B[39m\u001B[38;5;124m\"\u001B[39m: params,\n\u001B[0;32m    374\u001B[0m }\n",
      "\u001B[1;31mTypeError\u001B[0m: can't multiply sequence by non-int of type 'complex'"
     ]
    }
   ],
   "source": [
    "dp_01 = DragDP01(pulse_model=pulse01)\n",
    "dp_01.run()\n",
    "pulse01"
   ],
   "metadata": {
    "collapsed": false
   }
  },
  {
   "cell_type": "code",
   "execution_count": null,
   "outputs": [],
   "source": [
    "dl_01 = DragLK01(pulse_model=pulse01)\n",
    "dp_01.run()\n",
    "pulse01"
   ],
   "metadata": {
    "collapsed": false
   }
  },
  {
   "cell_type": "code",
   "execution_count": null,
   "outputs": [],
   "source": [
    "dp_12 = DragDP12(pulse_model=pulse01.pulse12)\n",
    "dp_12.run()\n",
    "pulse01.pulse12"
   ],
   "metadata": {
    "collapsed": false
   }
  },
  {
   "cell_type": "code",
   "execution_count": null,
   "outputs": [],
   "source": [
    "dl_12 = DragLK12(pulse_model=pulse01.pulse12)\n",
    "dl_12.run()\n",
    "pulse01.pulse12"
   ],
   "metadata": {
    "collapsed": false
   }
  }
 ],
 "metadata": {
  "kernelspec": {
   "display_name": "Python 3",
   "language": "python",
   "name": "python3"
  },
  "language_info": {
   "codemirror_mode": {
    "name": "ipython",
    "version": 2
   },
   "file_extension": ".py",
   "mimetype": "text/x-python",
   "name": "python",
   "nbconvert_exporter": "python",
   "pygments_lexer": "ipython2",
   "version": "2.7.6"
  }
 },
 "nbformat": 4,
 "nbformat_minor": 0
}

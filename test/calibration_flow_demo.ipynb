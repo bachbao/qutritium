{
 "cells": [
  {
   "cell_type": "code",
   "execution_count": 2,
   "outputs": [
    {
     "name": "stdout",
     "output_type": "stream",
     "text": [
      "C:\\Users\\reach\\Coding\\qutrit\n"
     ]
    }
   ],
   "source": [
    "import os\n",
    "\n",
    "# get the current working directory\n",
    "current_dir = os.getcwd()\n",
    "\n",
    "# navigate to the parent directory\n",
    "os.chdir(os.path.abspath(os.path.join(current_dir, os.pardir)))\n",
    "print(os.getcwd())"
   ],
   "metadata": {
    "collapsed": false
   }
  },
  {
   "cell_type": "code",
   "execution_count": 2,
   "metadata": {
    "collapsed": true
   },
   "outputs": [
    {
     "name": "stderr",
     "output_type": "stream",
     "text": [
      "\n",
      "KeyboardInterrupt\n",
      "\n"
     ]
    }
   ],
   "source": [
    "from src.calibration.transmission_reflection import TR_01, TR_12\n",
    "from src.calibration.rough_rabi import Rough_Rabi01, Rough_Rabi12\n",
    "from src.calibration.drag_dephase import DragDP01, DragDP12\n",
    "from src.calibration.drag_leakage import DragLK01, DragLK12\n",
    "from src.pulse import Pulse01"
   ]
  },
  {
   "cell_type": "code",
   "execution_count": 1,
   "outputs": [
    {
     "ename": "NameError",
     "evalue": "name 'TR_01' is not defined",
     "output_type": "error",
     "traceback": [
      "\u001B[1;31m---------------------------------------------------------------------------\u001B[0m",
      "\u001B[1;31mNameError\u001B[0m                                 Traceback (most recent call last)",
      "Cell \u001B[1;32mIn[1], line 1\u001B[0m\n\u001B[1;32m----> 1\u001B[0m tr_01 \u001B[38;5;241m=\u001B[39m \u001B[43mTR_01\u001B[49m(duration\u001B[38;5;241m=\u001B[39m\u001B[38;5;241m160\u001B[39m)\n\u001B[0;32m      2\u001B[0m \u001B[38;5;66;03m# This print out the processed pulse\u001B[39;00m\n\u001B[0;32m      3\u001B[0m tr_01\u001B[38;5;241m.\u001B[39mpulse\n",
      "\u001B[1;31mNameError\u001B[0m: name 'TR_01' is not defined"
     ]
    }
   ],
   "source": [
    "pulse01 = Pulse01(duration=144)\n",
    "tr_01 = TR_01(pulse_model=pulse01)\n",
    "tr_01.run()\n",
    "pulse01"
   ],
   "metadata": {
    "collapsed": false
   }
  },
  {
   "cell_type": "code",
   "execution_count": 2,
   "outputs": [
    {
     "ename": "NameError",
     "evalue": "name 'TR_12' is not defined",
     "output_type": "error",
     "traceback": [
      "\u001B[1;31m---------------------------------------------------------------------------\u001B[0m",
      "\u001B[1;31mNameError\u001B[0m                                 Traceback (most recent call last)",
      "Cell \u001B[1;32mIn[2], line 1\u001B[0m\n\u001B[1;32m----> 1\u001B[0m tr_12 \u001B[38;5;241m=\u001B[39m \u001B[43mTR_12\u001B[49m(duration\u001B[38;5;241m=\u001B[39m\u001B[38;5;241m160\u001B[39m)\n",
      "\u001B[1;31mNameError\u001B[0m: name 'TR_12' is not defined"
     ]
    }
   ],
   "source": [
    "rr_01 = Rough_Rabi01(pulse_model=pulse01)\n",
    "rr_01.run()\n",
    "pulse01"
   ],
   "metadata": {
    "collapsed": false
   }
  },
  {
   "cell_type": "code",
   "execution_count": null,
   "outputs": [],
   "source": [
    "tr_12 = TR_12(pulse_model=pulse01.pulse12)\n",
    "tr_12.run()\n",
    "pulse01.pulse12"
   ],
   "metadata": {
    "collapsed": false
   }
  },
  {
   "cell_type": "code",
   "execution_count": null,
   "outputs": [],
   "source": [
    "rr_12 = Rough_Rabi12(pulse_model=pulse01.pulse12)\n",
    "rr_12.run()\n",
    "pulse01.pulse12"
   ],
   "metadata": {
    "collapsed": false
   }
  },
  {
   "cell_type": "code",
   "execution_count": null,
   "outputs": [],
   "source": [
    "dp_01 = DragDP01(pulse_model=pulse01)\n",
    "dp_01.run()\n",
    "pulse01"
   ],
   "metadata": {
    "collapsed": false
   }
  },
  {
   "cell_type": "code",
   "execution_count": null,
   "outputs": [],
   "source": [
    "dl_01 = DragLK01(pulse_model=pulse01)\n",
    "dp_01.run()\n",
    "pulse01"
   ],
   "metadata": {
    "collapsed": false
   }
  },
  {
   "cell_type": "code",
   "execution_count": null,
   "outputs": [],
   "source": [
    "dp_12 = DragDP12(pulse_model=pulse01.pulse12)\n",
    "dp_12.run()\n",
    "pulse01.pulse12"
   ],
   "metadata": {
    "collapsed": false
   }
  },
  {
   "cell_type": "code",
   "execution_count": null,
   "outputs": [],
   "source": [
    "dl_12 = DragLK12(pulse_model=pulse01.pulse12)\n",
    "dl_12.run()\n",
    "pulse01.pulse12"
   ],
   "metadata": {
    "collapsed": false
   }
  }
 ],
 "metadata": {
  "kernelspec": {
   "display_name": "Python 3",
   "language": "python",
   "name": "python3"
  },
  "language_info": {
   "codemirror_mode": {
    "name": "ipython",
    "version": 2
   },
   "file_extension": ".py",
   "mimetype": "text/x-python",
   "name": "python",
   "nbconvert_exporter": "python",
   "pygments_lexer": "ipython2",
   "version": "2.7.6"
  }
 },
 "nbformat": 4,
 "nbformat_minor": 0
}

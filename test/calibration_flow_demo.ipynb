{
 "cells": [
  {
   "cell_type": "code",
   "execution_count": 1,
   "outputs": [
    {
     "name": "stdout",
     "output_type": "stream",
     "text": [
      "C:\\Users\\reach\\Coding\\qutrit\n"
     ]
    }
   ],
   "source": [
    "import os\n",
    "\n",
    "# get the current working directory\n",
    "current_dir = os.getcwd()\n",
    "\n",
    "# navigate to the parent directory\n",
    "os.chdir(os.path.abspath(os.path.join(current_dir, os.pardir)))\n",
    "print(os.getcwd())"
   ],
   "metadata": {
    "collapsed": false
   }
  },
  {
   "cell_type": "code",
   "execution_count": 2,
   "metadata": {
    "collapsed": true
   },
   "outputs": [],
   "source": [
    "from src.calibration.transmission_reflection import TR_01, TR_12\n",
    "from src.calibration.rough_rabi import Rough_Rabi01, Rough_Rabi12\n",
    "from src.calibration.drag_dephase import DragDP01, DragDP12\n",
    "from src.calibration.drag_leakage import DragLK01, DragLK12\n",
    "from src.pulse import Pulse01, Pulse12"
   ]
  },
  {
   "cell_type": "code",
   "execution_count": 3,
   "outputs": [
    {
     "name": "stderr",
     "output_type": "stream",
     "text": [
      "C:\\Users\\reach\\Coding\\Qutrit\\venv\\lib\\site-packages\\scipy\\optimize\\_minpack_py.py:906: OptimizeWarning: Covariance of the parameters could not be estimated\n",
      "  warnings.warn('Covariance of the parameters could not be estimated',\n"
     ]
    },
    {
     "data": {
      "text/plain": "Pulse01: id=5ad104f7-ae7e-4b6d-b168-27ddf51447a8, frequency=4900000000.0, x_amp=0, sx_amp=0, beta_dephase=0, beta_leakage=0, duration=144, sigma=36.0"
     },
     "execution_count": 3,
     "metadata": {},
     "output_type": "execute_result"
    }
   ],
   "source": [
    "pulse01 = Pulse01(duration=144)\n",
    "tr_01 = TR_01(pulse_model=pulse01)\n",
    "# tr_01.run()\n",
    "tr_01.set_up()\n",
    "tr_01.modify_pulse_model(job_id='641c8fbc92197c3220e1b647')\n",
    "pulse01"
   ],
   "metadata": {
    "collapsed": false
   }
  },
  {
   "cell_type": "code",
   "execution_count": 4,
   "outputs": [
    {
     "data": {
      "text/plain": "Pulse01: id=5ad104f7-ae7e-4b6d-b168-27ddf51447a8, frequency=4900000000.0, x_amp=0.27789268017955304, sx_amp=0, beta_dephase=0, beta_leakage=0, duration=144, sigma=36.0"
     },
     "execution_count": 4,
     "metadata": {},
     "output_type": "execute_result"
    }
   ],
   "source": [
    "rr_01 = Rough_Rabi01(pulse_model=pulse01)\n",
    "# rr_01.run()\n",
    "rr_01.modify_pulse_model(job_id='641c8fbc92197c3220e1b647')\n",
    "pulse01"
   ],
   "metadata": {
    "collapsed": false
   }
  },
  {
   "cell_type": "code",
   "execution_count": 5,
   "outputs": [
    {
     "data": {
      "text/plain": "Pulse12: id=9d28a464-6d49-4d40-923d-07a57b0b745c, frequency=4800000000.0, x_amp=Ellipsis, sx_amp=0, beta_dephase=0, beta_leakage=0, duration=144, sigma=36.0"
     },
     "execution_count": 5,
     "metadata": {},
     "output_type": "execute_result"
    }
   ],
   "source": [
    "pulse12 = Pulse12(pulse01=pulse01, duration=pulse01.duration)\n",
    "pulse12.x_amp = ...\n",
    "tr_12 = TR_12(pulse_model=pulse12)\n",
    "tr_12.set_up()\n",
    "# tr_12.run()\n",
    "tr_12.modify_pulse_model(job_id='641d860ccca68020ebc69bdf')\n",
    "pulse01.pulse12"
   ],
   "metadata": {
    "collapsed": false
   }
  },
  {
   "cell_type": "code",
   "execution_count": 6,
   "outputs": [
    {
     "data": {
      "text/plain": "Pulse12: id=9d28a464-6d49-4d40-923d-07a57b0b745c, frequency=4800000000.0, x_amp=0.28655972253635953, sx_amp=0, beta_dephase=0, beta_leakage=0, duration=144, sigma=36.0"
     },
     "execution_count": 6,
     "metadata": {},
     "output_type": "execute_result"
    }
   ],
   "source": [
    "rr_12 = Rough_Rabi12(pulse_model=pulse12)\n",
    "# rr_12.run()\n",
    "rr_12.modify_pulse_model(job_id='641dab4d92197c965be1b933')\n",
    "pulse12"
   ],
   "metadata": {
    "collapsed": false
   }
  },
  {
   "cell_type": "code",
   "execution_count": 7,
   "outputs": [
    {
     "data": {
      "text/plain": "Pulse01: id=5ad104f7-ae7e-4b6d-b168-27ddf51447a8, frequency=4900000000.0, x_amp=0.27789268017955304, sx_amp=0, beta_dephase=-0.08232604663723386, beta_leakage=0, duration=144, sigma=36.0"
     },
     "execution_count": 7,
     "metadata": {},
     "output_type": "execute_result"
    }
   ],
   "source": [
    "dp_01 = DragDP01(pulse_model=pulse01)\n",
    "# dp_01.run()\n",
    "dp_01.modify_pulse_model(job_id='6429b738a03cd270d5a9abf2')\n",
    "pulse01"
   ],
   "metadata": {
    "collapsed": false
   }
  },
  {
   "cell_type": "code",
   "execution_count": 8,
   "outputs": [
    {
     "data": {
      "text/plain": "Pulse01: id=5ad104f7-ae7e-4b6d-b168-27ddf51447a8, frequency=4900000000.0, x_amp=0.27789268017955304, sx_amp=0, beta_dephase=13.337712720581811, beta_leakage=0, duration=144, sigma=36.0"
     },
     "execution_count": 8,
     "metadata": {},
     "output_type": "execute_result"
    }
   ],
   "source": [
    "dl_01 = DragLK01(pulse_model=pulse01)\n",
    "# dp_01.run()\n",
    "dp_01.modify_pulse_model(job_id='642a4545369d4a3434d3c6b7')\n",
    "pulse01"
   ],
   "metadata": {
    "collapsed": false
   }
  },
  {
   "cell_type": "code",
   "execution_count": 9,
   "outputs": [
    {
     "name": "stdout",
     "output_type": "stream",
     "text": [
      "Job Status: job has successfully run\n",
      "Process run successfully!\n"
     ]
    },
    {
     "data": {
      "text/plain": "Pulse12: id=9d28a464-6d49-4d40-923d-07a57b0b745c, frequency=4800000000.0, x_amp=0.28655972253635953, sx_amp=0, beta_dephase=-0.5691707339668158, beta_leakage=0, duration=144, sigma=36.0"
     },
     "execution_count": 9,
     "metadata": {},
     "output_type": "execute_result"
    }
   ],
   "source": [
    "dp_12 = DragDP12(pulse_model=pulse01.pulse12)\n",
    "dp_12.run()\n",
    "pulse01.pulse12"
   ],
   "metadata": {
    "collapsed": false
   }
  },
  {
   "cell_type": "code",
   "execution_count": 10,
   "outputs": [
    {
     "name": "stdout",
     "output_type": "stream",
     "text": [
      "Job Status: job has successfully run\n",
      "Process run successfully!\n"
     ]
    },
    {
     "data": {
      "text/plain": "Pulse12: id=9d28a464-6d49-4d40-923d-07a57b0b745c, frequency=4800000000.0, x_amp=0.28655972253635953, sx_amp=0, beta_dephase=-0.5691707339668158, beta_leakage=-3.709677419354839, duration=144, sigma=36.0"
     },
     "execution_count": 10,
     "metadata": {},
     "output_type": "execute_result"
    }
   ],
   "source": [
    "dl_12 = DragLK12(pulse_model=pulse01.pulse12)\n",
    "dl_12.run()\n",
    "pulse01.pulse12"
   ],
   "metadata": {
    "collapsed": false
   }
  },
  {
   "cell_type": "code",
   "execution_count": null,
   "outputs": [],
   "source": [],
   "metadata": {
    "collapsed": false
   }
  }
 ],
 "metadata": {
  "kernelspec": {
   "display_name": "Python 3",
   "language": "python",
   "name": "python3"
  },
  "language_info": {
   "codemirror_mode": {
    "name": "ipython",
    "version": 2
   },
   "file_extension": ".py",
   "mimetype": "text/x-python",
   "name": "python",
   "nbconvert_exporter": "python",
   "pygments_lexer": "ipython2",
   "version": "2.7.6"
  }
 },
 "nbformat": 4,
 "nbformat_minor": 0
}

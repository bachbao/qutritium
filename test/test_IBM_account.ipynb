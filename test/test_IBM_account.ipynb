{
 "cells": [
  {
   "cell_type": "code",
   "execution_count": 1,
   "metadata": {},
   "outputs": [],
   "source": [
    "from qiskit import *\n",
    "from qiskit.circuit import Gate, QuantumCircuit, Parameter\n",
    "from qiskit_ibm_provider.ibm_provider import IBMProvider"
   ]
  },
  {
   "cell_type": "code",
   "execution_count": 2,
   "metadata": {},
   "outputs": [],
   "source": [
    "# Save token\n",
    "IBMProvider.save_account(token='b751d05f9c3522f9d46a851e2830dfa0d6087643fcdda1588b781e2f349cbaa8c6d7b1dbec1ec3262857523289bb385ee8ad7b86a83c045ca69aba6b1bc4b3d8',overwrite=True)"
   ]
  },
  {
   "cell_type": "code",
   "execution_count": 3,
   "metadata": {},
   "outputs": [
    {
     "data": {
      "text/plain": [
       "[<IBMBackend('ibmq_quito')>,\n",
       " <IBMBackend('ibmq_manila')>,\n",
       " <IBMBackend('ibm_lagos')>,\n",
       " <IBMBackend('ibm_perth')>,\n",
       " <IBMBackend('ibmq_jakarta')>,\n",
       " <IBMBackend('ibm_nairobi')>,\n",
       " <IBMBackend('ibmq_qasm_simulator')>,\n",
       " <IBMBackend('ibmq_lima')>,\n",
       " <IBMBackend('ibmq_belem')>,\n",
       " <IBMBackend('simulator_extended_stabilizer')>,\n",
       " <IBMBackend('simulator_mps')>,\n",
       " <IBMBackend('simulator_statevector')>,\n",
       " <IBMBackend('simulator_stabilizer')>]"
      ]
     },
     "execution_count": 3,
     "metadata": {},
     "output_type": "execute_result"
    }
   ],
   "source": [
    "# Print out all the hardware available\n",
    "provider = IBMProvider()\n",
    "provider.backends()"
   ]
  },
  {
   "cell_type": "code",
   "execution_count": 4,
   "metadata": {},
   "outputs": [],
   "source": [
    "# Choose backend, in this case we choose nairobi\n",
    "backend = provider.get_backend('ibm_nairobi')"
   ]
  },
  {
   "cell_type": "code",
   "execution_count": 5,
   "metadata": {},
   "outputs": [
    {
     "data": {
      "text/plain": [
       "<qiskit.circuit.instructionset.InstructionSet at 0x262edd0db50>"
      ]
     },
     "execution_count": 5,
     "metadata": {},
     "output_type": "execute_result"
    }
   ],
   "source": [
    "frequency = Parameter('transition_freq_01')\n",
    "freq01_probe = Gate(name='Unitary', num_qubits=1, params=[frequency])\n",
    "qc_spect01 = QuantumCircuit(1, 1)\n",
    "qc_spect01.append(freq01_probe, [0])\n",
    "qc_spect01.measure(0, 0)"
   ]
  },
  {
   "cell_type": "code",
   "execution_count": 6,
   "metadata": {},
   "outputs": [
    {
     "name": "stderr",
     "output_type": "stream",
     "text": [
      "UsageError: Line magic function `%` not found.\n"
     ]
    }
   ],
   "source": [
    "% matplotlib inline"
   ]
  },
  {
   "cell_type": "code",
   "execution_count": 7,
   "metadata": {},
   "outputs": [
    {
     "data": {
      "text/html": [
       "<pre style=\"word-wrap: normal;white-space: pre;background: #fff0;line-height: 1.1;font-family: &quot;Courier New&quot;,Courier,monospace\">     ┌─────────────────────────────┐┌─┐\n",
       "  q: ┤ Unitary(transition_freq_01) ├┤M├\n",
       "     └─────────────────────────────┘└╥┘\n",
       "c: 1/════════════════════════════════╩═\n",
       "                                     0 </pre>"
      ],
      "text/plain": [
       "     ┌─────────────────────────────┐┌─┐\n",
       "  q: ┤ Unitary(transition_freq_01) ├┤M├\n",
       "     └─────────────────────────────┘└╥┘\n",
       "c: 1/════════════════════════════════╩═\n",
       "                                     0 "
      ]
     },
     "execution_count": 7,
     "metadata": {},
     "output_type": "execute_result"
    }
   ],
   "source": [
    "qc_spect01.draw()"
   ]
  },
  {
   "cell_type": "code",
   "execution_count": 8,
   "metadata": {},
   "outputs": [
    {
     "ename": "QiskitError",
     "evalue": "\"Cannot unroll the circuit to the given basis, ['rz', 'measure', 'delay', 'reset', 'x', 'cx', 'if_else', 'id', 'sx']. Instruction Unitary not found in equivalence library and no rule found to expand.\"",
     "output_type": "error",
     "traceback": [
      "\u001B[1;31m---------------------------------------------------------------------------\u001B[0m",
      "\u001B[1;31mQiskitError\u001B[0m                               Traceback (most recent call last)",
      "Cell \u001B[1;32mIn[8], line 2\u001B[0m\n\u001B[0;32m      1\u001B[0m \u001B[38;5;28;01mfrom\u001B[39;00m \u001B[38;5;21;01mqiskit\u001B[39;00m\u001B[38;5;21;01m.\u001B[39;00m\u001B[38;5;21;01mtools\u001B[39;00m\u001B[38;5;21;01m.\u001B[39;00m\u001B[38;5;21;01mmonitor\u001B[39;00m \u001B[38;5;28;01mimport\u001B[39;00m job_monitor\n\u001B[1;32m----> 2\u001B[0m job \u001B[38;5;241m=\u001B[39m \u001B[43mexecute\u001B[49m\u001B[43m(\u001B[49m\u001B[43mqc_spect01\u001B[49m\u001B[43m,\u001B[49m\u001B[43m \u001B[49m\u001B[43mbackend\u001B[49m\u001B[38;5;241;43m=\u001B[39;49m\u001B[43mbackend\u001B[49m\u001B[43m)\u001B[49m\n\u001B[0;32m      3\u001B[0m job_monitor(job\u001B[38;5;241m=\u001B[39mjob)\n",
      "File \u001B[1;32m~\\Coding\\qutritium\\venv\\lib\\site-packages\\qiskit\\utils\\deprecation.py:182\u001B[0m, in \u001B[0;36mdeprecate_arg.<locals>.decorator.<locals>.wrapper\u001B[1;34m(*args, **kwargs)\u001B[0m\n\u001B[0;32m    169\u001B[0m \u001B[38;5;129m@functools\u001B[39m\u001B[38;5;241m.\u001B[39mwraps(func)\n\u001B[0;32m    170\u001B[0m \u001B[38;5;28;01mdef\u001B[39;00m \u001B[38;5;21mwrapper\u001B[39m(\u001B[38;5;241m*\u001B[39margs, \u001B[38;5;241m*\u001B[39m\u001B[38;5;241m*\u001B[39mkwargs):\n\u001B[0;32m    171\u001B[0m     _maybe_warn_and_rename_kwarg(\n\u001B[0;32m    172\u001B[0m         args,\n\u001B[0;32m    173\u001B[0m         kwargs,\n\u001B[1;32m   (...)\u001B[0m\n\u001B[0;32m    180\u001B[0m         predicate\u001B[38;5;241m=\u001B[39mpredicate,\n\u001B[0;32m    181\u001B[0m     )\n\u001B[1;32m--> 182\u001B[0m     \u001B[38;5;28;01mreturn\u001B[39;00m func(\u001B[38;5;241m*\u001B[39margs, \u001B[38;5;241m*\u001B[39m\u001B[38;5;241m*\u001B[39mkwargs)\n",
      "File \u001B[1;32m~\\Coding\\qutritium\\venv\\lib\\site-packages\\qiskit\\utils\\deprecation.py:182\u001B[0m, in \u001B[0;36mdeprecate_arg.<locals>.decorator.<locals>.wrapper\u001B[1;34m(*args, **kwargs)\u001B[0m\n\u001B[0;32m    169\u001B[0m \u001B[38;5;129m@functools\u001B[39m\u001B[38;5;241m.\u001B[39mwraps(func)\n\u001B[0;32m    170\u001B[0m \u001B[38;5;28;01mdef\u001B[39;00m \u001B[38;5;21mwrapper\u001B[39m(\u001B[38;5;241m*\u001B[39margs, \u001B[38;5;241m*\u001B[39m\u001B[38;5;241m*\u001B[39mkwargs):\n\u001B[0;32m    171\u001B[0m     _maybe_warn_and_rename_kwarg(\n\u001B[0;32m    172\u001B[0m         args,\n\u001B[0;32m    173\u001B[0m         kwargs,\n\u001B[1;32m   (...)\u001B[0m\n\u001B[0;32m    180\u001B[0m         predicate\u001B[38;5;241m=\u001B[39mpredicate,\n\u001B[0;32m    181\u001B[0m     )\n\u001B[1;32m--> 182\u001B[0m     \u001B[38;5;28;01mreturn\u001B[39;00m func(\u001B[38;5;241m*\u001B[39margs, \u001B[38;5;241m*\u001B[39m\u001B[38;5;241m*\u001B[39mkwargs)\n",
      "File \u001B[1;32m~\\Coding\\qutritium\\venv\\lib\\site-packages\\qiskit\\execute_function.py:302\u001B[0m, in \u001B[0;36mexecute\u001B[1;34m(***failed resolving arguments***)\u001B[0m\n\u001B[0;32m    299\u001B[0m     experiments \u001B[38;5;241m=\u001B[39m pass_manager\u001B[38;5;241m.\u001B[39mrun(experiments)\n\u001B[0;32m    300\u001B[0m \u001B[38;5;28;01melse\u001B[39;00m:\n\u001B[0;32m    301\u001B[0m     \u001B[38;5;66;03m# transpiling the circuits using given transpile options\u001B[39;00m\n\u001B[1;32m--> 302\u001B[0m     experiments \u001B[38;5;241m=\u001B[39m \u001B[43mtranspile\u001B[49m\u001B[43m(\u001B[49m\n\u001B[0;32m    303\u001B[0m \u001B[43m        \u001B[49m\u001B[43mexperiments\u001B[49m\u001B[43m,\u001B[49m\n\u001B[0;32m    304\u001B[0m \u001B[43m        \u001B[49m\u001B[43mbasis_gates\u001B[49m\u001B[38;5;241;43m=\u001B[39;49m\u001B[43mbasis_gates\u001B[49m\u001B[43m,\u001B[49m\n\u001B[0;32m    305\u001B[0m \u001B[43m        \u001B[49m\u001B[43mcoupling_map\u001B[49m\u001B[38;5;241;43m=\u001B[39;49m\u001B[43mcoupling_map\u001B[49m\u001B[43m,\u001B[49m\n\u001B[0;32m    306\u001B[0m \u001B[43m        \u001B[49m\u001B[43mbackend_properties\u001B[49m\u001B[38;5;241;43m=\u001B[39;49m\u001B[43mbackend_properties\u001B[49m\u001B[43m,\u001B[49m\n\u001B[0;32m    307\u001B[0m \u001B[43m        \u001B[49m\u001B[43minitial_layout\u001B[49m\u001B[38;5;241;43m=\u001B[39;49m\u001B[43minitial_layout\u001B[49m\u001B[43m,\u001B[49m\n\u001B[0;32m    308\u001B[0m \u001B[43m        \u001B[49m\u001B[43mseed_transpiler\u001B[49m\u001B[38;5;241;43m=\u001B[39;49m\u001B[43mseed_transpiler\u001B[49m\u001B[43m,\u001B[49m\n\u001B[0;32m    309\u001B[0m \u001B[43m        \u001B[49m\u001B[43moptimization_level\u001B[49m\u001B[38;5;241;43m=\u001B[39;49m\u001B[43moptimization_level\u001B[49m\u001B[43m,\u001B[49m\n\u001B[0;32m    310\u001B[0m \u001B[43m        \u001B[49m\u001B[43mbackend\u001B[49m\u001B[38;5;241;43m=\u001B[39;49m\u001B[43mbackend\u001B[49m\u001B[43m,\u001B[49m\n\u001B[0;32m    311\u001B[0m \u001B[43m    \u001B[49m\u001B[43m)\u001B[49m\n\u001B[0;32m    313\u001B[0m \u001B[38;5;28;01mif\u001B[39;00m schedule_circuit:\n\u001B[0;32m    314\u001B[0m     experiments \u001B[38;5;241m=\u001B[39m schedule(\n\u001B[0;32m    315\u001B[0m         circuits\u001B[38;5;241m=\u001B[39mexperiments,\n\u001B[0;32m    316\u001B[0m         backend\u001B[38;5;241m=\u001B[39mbackend,\n\u001B[1;32m   (...)\u001B[0m\n\u001B[0;32m    319\u001B[0m         method\u001B[38;5;241m=\u001B[39mscheduling_method,\n\u001B[0;32m    320\u001B[0m     )\n",
      "File \u001B[1;32m~\\Coding\\qutritium\\venv\\lib\\site-packages\\qiskit\\compiler\\transpiler.py:381\u001B[0m, in \u001B[0;36mtranspile\u001B[1;34m(circuits, backend, basis_gates, inst_map, coupling_map, backend_properties, initial_layout, layout_method, routing_method, translation_method, scheduling_method, instruction_durations, dt, approximation_degree, timing_constraints, seed_transpiler, optimization_level, callback, output_name, unitary_synthesis_method, unitary_synthesis_plugin_config, target, hls_config, init_method, optimization_method, ignore_backend_supplied_default_methods)\u001B[0m\n\u001B[0;32m    378\u001B[0m     \u001B[38;5;28;01mfor\u001B[39;00m circuit, unique_args \u001B[38;5;129;01min\u001B[39;00m \u001B[38;5;28mzip\u001B[39m(circuits, unique_transpile_args):\n\u001B[0;32m    379\u001B[0m         transpile_config, pass_manager \u001B[38;5;241m=\u001B[39m _combine_args(shared_args, unique_args)\n\u001B[0;32m    380\u001B[0m         output_circuits\u001B[38;5;241m.\u001B[39mappend(\n\u001B[1;32m--> 381\u001B[0m             \u001B[43m_serial_transpile_circuit\u001B[49m\u001B[43m(\u001B[49m\n\u001B[0;32m    382\u001B[0m \u001B[43m                \u001B[49m\u001B[43mcircuit\u001B[49m\u001B[43m,\u001B[49m\n\u001B[0;32m    383\u001B[0m \u001B[43m                \u001B[49m\u001B[43mpass_manager\u001B[49m\u001B[43m,\u001B[49m\n\u001B[0;32m    384\u001B[0m \u001B[43m                \u001B[49m\u001B[43mtranspile_config\u001B[49m\u001B[43m[\u001B[49m\u001B[38;5;124;43m\"\u001B[39;49m\u001B[38;5;124;43mcallback\u001B[39;49m\u001B[38;5;124;43m\"\u001B[39;49m\u001B[43m]\u001B[49m\u001B[43m,\u001B[49m\n\u001B[0;32m    385\u001B[0m \u001B[43m                \u001B[49m\u001B[43mtranspile_config\u001B[49m\u001B[43m[\u001B[49m\u001B[38;5;124;43m\"\u001B[39;49m\u001B[38;5;124;43moutput_name\u001B[39;49m\u001B[38;5;124;43m\"\u001B[39;49m\u001B[43m]\u001B[49m\u001B[43m,\u001B[49m\n\u001B[0;32m    386\u001B[0m \u001B[43m            \u001B[49m\u001B[43m)\u001B[49m\n\u001B[0;32m    387\u001B[0m         )\n\u001B[0;32m    388\u001B[0m     circuits \u001B[38;5;241m=\u001B[39m output_circuits\n\u001B[0;32m    389\u001B[0m end_time \u001B[38;5;241m=\u001B[39m time()\n",
      "File \u001B[1;32m~\\Coding\\qutritium\\venv\\lib\\site-packages\\qiskit\\compiler\\transpiler.py:463\u001B[0m, in \u001B[0;36m_serial_transpile_circuit\u001B[1;34m(circuit, pass_manager, callback, output_name)\u001B[0m\n\u001B[0;32m    457\u001B[0m \u001B[38;5;28;01mdef\u001B[39;00m \u001B[38;5;21m_serial_transpile_circuit\u001B[39m(\n\u001B[0;32m    458\u001B[0m     circuit,\n\u001B[0;32m    459\u001B[0m     pass_manager,\n\u001B[0;32m    460\u001B[0m     callback,\n\u001B[0;32m    461\u001B[0m     output_name,\n\u001B[0;32m    462\u001B[0m ):\n\u001B[1;32m--> 463\u001B[0m     result \u001B[38;5;241m=\u001B[39m \u001B[43mpass_manager\u001B[49m\u001B[38;5;241;43m.\u001B[39;49m\u001B[43mrun\u001B[49m\u001B[43m(\u001B[49m\u001B[43mcircuit\u001B[49m\u001B[43m,\u001B[49m\u001B[43m \u001B[49m\u001B[43mcallback\u001B[49m\u001B[38;5;241;43m=\u001B[39;49m\u001B[43mcallback\u001B[49m\u001B[43m,\u001B[49m\u001B[43m \u001B[49m\u001B[43moutput_name\u001B[49m\u001B[38;5;241;43m=\u001B[39;49m\u001B[43moutput_name\u001B[49m\u001B[43m)\u001B[49m\n\u001B[0;32m    464\u001B[0m     \u001B[38;5;28;01mreturn\u001B[39;00m result\n",
      "File \u001B[1;32m~\\Coding\\qutritium\\venv\\lib\\site-packages\\qiskit\\transpiler\\passmanager.py:537\u001B[0m, in \u001B[0;36mStagedPassManager.run\u001B[1;34m(self, circuits, output_name, callback)\u001B[0m\n\u001B[0;32m    530\u001B[0m \u001B[38;5;28;01mdef\u001B[39;00m \u001B[38;5;21mrun\u001B[39m(\n\u001B[0;32m    531\u001B[0m     \u001B[38;5;28mself\u001B[39m,\n\u001B[0;32m    532\u001B[0m     circuits: _CircuitsT,\n\u001B[0;32m    533\u001B[0m     output_name: Optional[\u001B[38;5;28mstr\u001B[39m] \u001B[38;5;241m=\u001B[39m \u001B[38;5;28;01mNone\u001B[39;00m,\n\u001B[0;32m    534\u001B[0m     callback: Optional[Callable] \u001B[38;5;241m=\u001B[39m \u001B[38;5;28;01mNone\u001B[39;00m,\n\u001B[0;32m    535\u001B[0m ) \u001B[38;5;241m-\u001B[39m\u001B[38;5;241m>\u001B[39m _CircuitsT:\n\u001B[0;32m    536\u001B[0m     \u001B[38;5;28mself\u001B[39m\u001B[38;5;241m.\u001B[39m_update_passmanager()\n\u001B[1;32m--> 537\u001B[0m     \u001B[38;5;28;01mreturn\u001B[39;00m \u001B[38;5;28;43msuper\u001B[39;49m\u001B[43m(\u001B[49m\u001B[43m)\u001B[49m\u001B[38;5;241;43m.\u001B[39;49m\u001B[43mrun\u001B[49m\u001B[43m(\u001B[49m\u001B[43mcircuits\u001B[49m\u001B[43m,\u001B[49m\u001B[43m \u001B[49m\u001B[43moutput_name\u001B[49m\u001B[43m,\u001B[49m\u001B[43m \u001B[49m\u001B[43mcallback\u001B[49m\u001B[43m)\u001B[49m\n",
      "File \u001B[1;32m~\\Coding\\qutritium\\venv\\lib\\site-packages\\qiskit\\transpiler\\passmanager.py:231\u001B[0m, in \u001B[0;36mPassManager.run\u001B[1;34m(self, circuits, output_name, callback)\u001B[0m\n\u001B[0;32m    229\u001B[0m     \u001B[38;5;28;01mreturn\u001B[39;00m circuits\n\u001B[0;32m    230\u001B[0m \u001B[38;5;28;01mif\u001B[39;00m \u001B[38;5;28misinstance\u001B[39m(circuits, QuantumCircuit):\n\u001B[1;32m--> 231\u001B[0m     \u001B[38;5;28;01mreturn\u001B[39;00m \u001B[38;5;28;43mself\u001B[39;49m\u001B[38;5;241;43m.\u001B[39;49m\u001B[43m_run_single_circuit\u001B[49m\u001B[43m(\u001B[49m\u001B[43mcircuits\u001B[49m\u001B[43m,\u001B[49m\u001B[43m \u001B[49m\u001B[43moutput_name\u001B[49m\u001B[43m,\u001B[49m\u001B[43m \u001B[49m\u001B[43mcallback\u001B[49m\u001B[43m)\u001B[49m\n\u001B[0;32m    232\u001B[0m \u001B[38;5;28;01mif\u001B[39;00m \u001B[38;5;28mlen\u001B[39m(circuits) \u001B[38;5;241m==\u001B[39m \u001B[38;5;241m1\u001B[39m:\n\u001B[0;32m    233\u001B[0m     \u001B[38;5;28;01mreturn\u001B[39;00m [\u001B[38;5;28mself\u001B[39m\u001B[38;5;241m.\u001B[39m_run_single_circuit(circuits[\u001B[38;5;241m0\u001B[39m], output_name, callback)]\n",
      "File \u001B[1;32m~\\Coding\\qutritium\\venv\\lib\\site-packages\\qiskit\\transpiler\\passmanager.py:292\u001B[0m, in \u001B[0;36mPassManager._run_single_circuit\u001B[1;34m(self, circuit, output_name, callback)\u001B[0m\n\u001B[0;32m    280\u001B[0m \u001B[38;5;250m\u001B[39m\u001B[38;5;124;03m\"\"\"Run all the passes on a ``circuit``.\u001B[39;00m\n\u001B[0;32m    281\u001B[0m \n\u001B[0;32m    282\u001B[0m \u001B[38;5;124;03mArgs:\u001B[39;00m\n\u001B[1;32m   (...)\u001B[0m\n\u001B[0;32m    289\u001B[0m \u001B[38;5;124;03m    The transformed circuit.\u001B[39;00m\n\u001B[0;32m    290\u001B[0m \u001B[38;5;124;03m\"\"\"\u001B[39;00m\n\u001B[0;32m    291\u001B[0m running_passmanager \u001B[38;5;241m=\u001B[39m \u001B[38;5;28mself\u001B[39m\u001B[38;5;241m.\u001B[39m_create_running_passmanager()\n\u001B[1;32m--> 292\u001B[0m result \u001B[38;5;241m=\u001B[39m \u001B[43mrunning_passmanager\u001B[49m\u001B[38;5;241;43m.\u001B[39;49m\u001B[43mrun\u001B[49m\u001B[43m(\u001B[49m\u001B[43mcircuit\u001B[49m\u001B[43m,\u001B[49m\u001B[43m \u001B[49m\u001B[43moutput_name\u001B[49m\u001B[38;5;241;43m=\u001B[39;49m\u001B[43moutput_name\u001B[49m\u001B[43m,\u001B[49m\u001B[43m \u001B[49m\u001B[43mcallback\u001B[49m\u001B[38;5;241;43m=\u001B[39;49m\u001B[43mcallback\u001B[49m\u001B[43m)\u001B[49m\n\u001B[0;32m    293\u001B[0m \u001B[38;5;28mself\u001B[39m\u001B[38;5;241m.\u001B[39mproperty_set \u001B[38;5;241m=\u001B[39m running_passmanager\u001B[38;5;241m.\u001B[39mproperty_set\n\u001B[0;32m    294\u001B[0m \u001B[38;5;28;01mreturn\u001B[39;00m result\n",
      "File \u001B[1;32m~\\Coding\\qutritium\\venv\\lib\\site-packages\\qiskit\\transpiler\\runningpassmanager.py:125\u001B[0m, in \u001B[0;36mRunningPassManager.run\u001B[1;34m(***failed resolving arguments***)\u001B[0m\n\u001B[0;32m    123\u001B[0m \u001B[38;5;28;01mfor\u001B[39;00m passset \u001B[38;5;129;01min\u001B[39;00m \u001B[38;5;28mself\u001B[39m\u001B[38;5;241m.\u001B[39mworking_list:\n\u001B[0;32m    124\u001B[0m     \u001B[38;5;28;01mfor\u001B[39;00m pass_ \u001B[38;5;129;01min\u001B[39;00m passset:\n\u001B[1;32m--> 125\u001B[0m         dag \u001B[38;5;241m=\u001B[39m \u001B[38;5;28;43mself\u001B[39;49m\u001B[38;5;241;43m.\u001B[39;49m\u001B[43m_do_pass\u001B[49m\u001B[43m(\u001B[49m\u001B[43mpass_\u001B[49m\u001B[43m,\u001B[49m\u001B[43m \u001B[49m\u001B[43mdag\u001B[49m\u001B[43m,\u001B[49m\u001B[43m \u001B[49m\u001B[43mpassset\u001B[49m\u001B[38;5;241;43m.\u001B[39;49m\u001B[43moptions\u001B[49m\u001B[43m)\u001B[49m\n\u001B[0;32m    127\u001B[0m circuit \u001B[38;5;241m=\u001B[39m dag_to_circuit(dag, copy_operations\u001B[38;5;241m=\u001B[39m\u001B[38;5;28;01mFalse\u001B[39;00m)\n\u001B[0;32m    128\u001B[0m \u001B[38;5;28;01mif\u001B[39;00m output_name:\n",
      "File \u001B[1;32m~\\Coding\\qutritium\\venv\\lib\\site-packages\\qiskit\\transpiler\\runningpassmanager.py:173\u001B[0m, in \u001B[0;36mRunningPassManager._do_pass\u001B[1;34m(self, pass_, dag, options)\u001B[0m\n\u001B[0;32m    171\u001B[0m \u001B[38;5;66;03m# Run the pass itself, if not already run\u001B[39;00m\n\u001B[0;32m    172\u001B[0m \u001B[38;5;28;01mif\u001B[39;00m pass_ \u001B[38;5;129;01mnot\u001B[39;00m \u001B[38;5;129;01min\u001B[39;00m \u001B[38;5;28mself\u001B[39m\u001B[38;5;241m.\u001B[39mvalid_passes:\n\u001B[1;32m--> 173\u001B[0m     dag \u001B[38;5;241m=\u001B[39m \u001B[38;5;28;43mself\u001B[39;49m\u001B[38;5;241;43m.\u001B[39;49m\u001B[43m_run_this_pass\u001B[49m\u001B[43m(\u001B[49m\u001B[43mpass_\u001B[49m\u001B[43m,\u001B[49m\u001B[43m \u001B[49m\u001B[43mdag\u001B[49m\u001B[43m)\u001B[49m\n\u001B[0;32m    175\u001B[0m     \u001B[38;5;66;03m# update the valid_passes property\u001B[39;00m\n\u001B[0;32m    176\u001B[0m     \u001B[38;5;28mself\u001B[39m\u001B[38;5;241m.\u001B[39m_update_valid_passes(pass_)\n",
      "File \u001B[1;32m~\\Coding\\qutritium\\venv\\lib\\site-packages\\qiskit\\transpiler\\runningpassmanager.py:202\u001B[0m, in \u001B[0;36mRunningPassManager._run_this_pass\u001B[1;34m(self, pass_, dag)\u001B[0m\n\u001B[0;32m    199\u001B[0m \u001B[38;5;28;01mif\u001B[39;00m pass_\u001B[38;5;241m.\u001B[39mis_transformation_pass:\n\u001B[0;32m    200\u001B[0m     \u001B[38;5;66;03m# Measure time if we have a callback or logging set\u001B[39;00m\n\u001B[0;32m    201\u001B[0m     start_time \u001B[38;5;241m=\u001B[39m time()\n\u001B[1;32m--> 202\u001B[0m     new_dag \u001B[38;5;241m=\u001B[39m \u001B[43mpass_\u001B[49m\u001B[38;5;241;43m.\u001B[39;49m\u001B[43mrun\u001B[49m\u001B[43m(\u001B[49m\u001B[43mdag\u001B[49m\u001B[43m)\u001B[49m\n\u001B[0;32m    203\u001B[0m     end_time \u001B[38;5;241m=\u001B[39m time()\n\u001B[0;32m    204\u001B[0m     run_time \u001B[38;5;241m=\u001B[39m end_time \u001B[38;5;241m-\u001B[39m start_time\n",
      "File \u001B[1;32m~\\Coding\\qutritium\\venv\\lib\\site-packages\\qiskit\\transpiler\\passes\\basis\\unroll_custom_definitions.py:95\u001B[0m, in \u001B[0;36mUnrollCustomDefinitions.run\u001B[1;34m(self, dag)\u001B[0m\n\u001B[0;32m     91\u001B[0m     \u001B[38;5;28;01mraise\u001B[39;00m QiskitError(\u001B[38;5;124mf\u001B[39m\u001B[38;5;124m\"\u001B[39m\u001B[38;5;124mError decomposing node \u001B[39m\u001B[38;5;132;01m{\u001B[39;00mnode\u001B[38;5;241m.\u001B[39mname\u001B[38;5;132;01m}\u001B[39;00m\u001B[38;5;124m: \u001B[39m\u001B[38;5;132;01m{\u001B[39;00merr\u001B[38;5;132;01m}\u001B[39;00m\u001B[38;5;124m\"\u001B[39m) \u001B[38;5;28;01mfrom\u001B[39;00m \u001B[38;5;21;01merr\u001B[39;00m\n\u001B[0;32m     93\u001B[0m \u001B[38;5;28;01mif\u001B[39;00m unrolled \u001B[38;5;129;01mis\u001B[39;00m \u001B[38;5;28;01mNone\u001B[39;00m:\n\u001B[0;32m     94\u001B[0m     \u001B[38;5;66;03m# opaque node\u001B[39;00m\n\u001B[1;32m---> 95\u001B[0m     \u001B[38;5;28;01mraise\u001B[39;00m QiskitError(\n\u001B[0;32m     96\u001B[0m         \u001B[38;5;124m\"\u001B[39m\u001B[38;5;124mCannot unroll the circuit to the given basis, \u001B[39m\u001B[38;5;132;01m%s\u001B[39;00m\u001B[38;5;124m. \u001B[39m\u001B[38;5;124m\"\u001B[39m\n\u001B[0;32m     97\u001B[0m         \u001B[38;5;124m\"\u001B[39m\u001B[38;5;124mInstruction \u001B[39m\u001B[38;5;132;01m%s\u001B[39;00m\u001B[38;5;124m not found in equivalence library \u001B[39m\u001B[38;5;124m\"\u001B[39m\n\u001B[0;32m     98\u001B[0m         \u001B[38;5;124m\"\u001B[39m\u001B[38;5;124mand no rule found to expand.\u001B[39m\u001B[38;5;124m\"\u001B[39m \u001B[38;5;241m%\u001B[39m (\u001B[38;5;28mstr\u001B[39m(\u001B[38;5;28mself\u001B[39m\u001B[38;5;241m.\u001B[39m_basis_gates), node\u001B[38;5;241m.\u001B[39mop\u001B[38;5;241m.\u001B[39mname)\n\u001B[0;32m     99\u001B[0m     )\n\u001B[0;32m    101\u001B[0m decomposition \u001B[38;5;241m=\u001B[39m circuit_to_dag(unrolled)\n\u001B[0;32m    102\u001B[0m unrolled_dag \u001B[38;5;241m=\u001B[39m UnrollCustomDefinitions(\n\u001B[0;32m    103\u001B[0m     \u001B[38;5;28mself\u001B[39m\u001B[38;5;241m.\u001B[39m_equiv_lib, \u001B[38;5;28mself\u001B[39m\u001B[38;5;241m.\u001B[39m_basis_gates, target\u001B[38;5;241m=\u001B[39m\u001B[38;5;28mself\u001B[39m\u001B[38;5;241m.\u001B[39m_target\n\u001B[0;32m    104\u001B[0m )\u001B[38;5;241m.\u001B[39mrun(decomposition)\n",
      "\u001B[1;31mQiskitError\u001B[0m: \"Cannot unroll the circuit to the given basis, ['rz', 'measure', 'delay', 'reset', 'x', 'cx', 'if_else', 'id', 'sx']. Instruction Unitary not found in equivalence library and no rule found to expand.\""
     ]
    }
   ],
   "source": [
    "from qiskit.tools.monitor import job_monitor\n",
    "job = execute(qc_spect01, backend=backend)\n",
    "job_monitor(job=job)"
   ]
  },
  {
   "cell_type": "code",
   "execution_count": 1,
   "metadata": {},
   "outputs": [],
   "source": [
    "from qiskit.tools.visualization import plot_histogram"
   ]
  },
  {
   "cell_type": "code",
   "execution_count": null,
   "metadata": {},
   "outputs": [],
   "source": [
    "result = job.result()\n",
    "plot_histogram(result.get_counts(qc_spect01))"
   ]
  }
 ],
 "metadata": {
  "kernelspec": {
   "display_name": "Python 3 (ipykernel)",
   "language": "python",
   "name": "python3"
  },
  "language_info": {
   "codemirror_mode": {
    "name": "ipython",
    "version": 3
   },
   "file_extension": ".py",
   "mimetype": "text/x-python",
   "name": "python",
   "nbconvert_exporter": "python",
   "pygments_lexer": "ipython3",
   "version": "3.9.7"
  }
 },
 "nbformat": 4,
 "nbformat_minor": 1
}

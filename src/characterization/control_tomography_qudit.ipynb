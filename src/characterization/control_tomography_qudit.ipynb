{
 "cells": [
  {
   "cell_type": "markdown",
   "id": "47e2ba5d",
   "metadata": {},
   "source": [
    "# Chevron curve for qudit (0-1)"
   ]
  },
  {
   "cell_type": "markdown",
   "id": "92b7c7f2",
   "metadata": {},
   "source": [
    "The $x$-axis is the time, or the amplitude. We'll choose amplitude (actually Martinis chose time I guess, not really sure). It's easier to think of rabi amplitude as a dimensionless number, than to stick to a fixed amplitude (with no plan of doing it) and reasoning using the complicated normalization system of IBM (dt = 2/9 nanoseconds and all of that).\n",
    "\n",
    "The $y$-axis is the detuning. We'll not really know the real frequency $\\omega_{01}=(E_{|1\\rangle}-E_{|0\\rangle})/\\hbar$. We'll just have to add detuning $\\delta\\omega$ to the estimated frequency $\\tilde{\\omega}$. In the benefits of hindsint, this will tell you exactly what to expect from the population of the qubit in the event of an unknown detuning, i.e. what's the state vector in the Bloch sphere?"
   ]
  },
  {
   "cell_type": "code",
   "execution_count": null,
   "id": "9b3605f8",
   "metadata": {},
   "outputs": [],
   "source": [
    "import pulse01\n",
    "\n",
    "pulse => amp dur freq (method: json)"
   ]
  }
 ],
 "metadata": {
  "kernelspec": {
   "display_name": "Python 3 (ipykernel)",
   "language": "python",
   "name": "python3"
  },
  "language_info": {
   "codemirror_mode": {
    "name": "ipython",
    "version": 3
   },
   "file_extension": ".py",
   "mimetype": "text/x-python",
   "name": "python",
   "nbconvert_exporter": "python",
   "pygments_lexer": "ipython3",
   "version": "3.9.6"
  }
 },
 "nbformat": 4,
 "nbformat_minor": 5
}

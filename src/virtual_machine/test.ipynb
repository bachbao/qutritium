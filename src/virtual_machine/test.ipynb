{
 "cells": [
  {
   "cell_type": "code",
   "execution_count": 8,
   "id": "71fcd4a1",
   "metadata": {},
   "outputs": [],
   "source": [
    "import numpy as np\n",
    "import sympy\n",
    "import tensorflow  as tf\n",
    "from sympy import symbols\n",
    "from sympy import simplify\n",
    "from sympy.solvers import solve\n",
    "from sympy.interactive.printing import init_printing\n",
    "from sympy.matrices import Matrix, eye, zeros"
   ]
  },
  {
   "cell_type": "code",
   "execution_count": 82,
   "outputs": [],
   "source": [
    "a = np.random.normal(size=(3**9, 3**9)).astype('float32')\n",
    "b = np.random.normal(size=(3**9, 1)).astype('float32')\n",
    "\n",
    "expected = np.matmul(a, b)"
   ],
   "metadata": {
    "collapsed": false
   }
  },
  {
   "cell_type": "code",
   "execution_count": 84,
   "outputs": [],
   "source": [
    "def py_matmul(a, b):\n",
    "    ra, ca = a.shape\n",
    "    rb, cb = b.shape\n",
    "    assert ca == rb, f\"{ca} != {rb}\"\n",
    "\n",
    "    return np.matmul(a, b)\n",
    "\n",
    "def py_tf(a, b):\n",
    "    ra, ca = a.shape\n",
    "    rb, cb = b.shape\n",
    "    assert ca == rb, f\"{ca} != {rb}\"\n",
    "\n",
    "    return tf.matmul(a, b)\n",
    "\n",
    "def py_np(a, b):\n",
    "    ra, ca = a.shape\n",
    "    rb, cb = b.shape\n",
    "    assert ca == rb, f\"{ca} != {rb}\"\n",
    "\n",
    "    return a@b\n",
    "\n",
    "def py_einsum(a, b):\n",
    "    ra, ca = a.shape\n",
    "    rb, cb = b.shape\n",
    "    assert ca == rb, f\"{ca} != {rb}\"\n",
    "\n",
    "    return np.einsum('ij,jk', a, b)\n",
    "#assert result.shape == expected.shape\n",
    "#assert np.allclose(result, expected, rtol=1e-02), (result, expected)"
   ],
   "metadata": {
    "collapsed": false
   }
  },
  {
   "cell_type": "code",
   "execution_count": 85,
   "outputs": [
    {
     "name": "stdout",
     "output_type": "stream",
     "text": [
      "CPU times: total: 93.8 ms\n",
      "Wall time: 124 ms\n"
     ]
    }
   ],
   "source": [
    "tf_a = tf.constant(a)\n",
    "tf_b = tf.constant(b)\n",
    "%time result = py_tf(tf_a, tf_b)"
   ],
   "metadata": {
    "collapsed": false
   }
  },
  {
   "cell_type": "code",
   "execution_count": 86,
   "outputs": [
    {
     "name": "stdout",
     "output_type": "stream",
     "text": [
      "CPU times: total: 359 ms\n",
      "Wall time: 93.7 ms\n"
     ]
    }
   ],
   "source": [
    "%time result = py_np(a, b)"
   ],
   "metadata": {
    "collapsed": false
   }
  },
  {
   "cell_type": "code",
   "execution_count": 87,
   "outputs": [
    {
     "name": "stdout",
     "output_type": "stream",
     "text": [
      "CPU times: total: 484 ms\n",
      "Wall time: 98.7 ms\n"
     ]
    }
   ],
   "source": [
    "%time result = py_matmul(a, b)"
   ],
   "metadata": {
    "collapsed": false
   }
  },
  {
   "cell_type": "code",
   "execution_count": 88,
   "outputs": [
    {
     "name": "stdout",
     "output_type": "stream",
     "text": [
      "CPU times: total: 172 ms\n",
      "Wall time: 255 ms\n"
     ]
    }
   ],
   "source": [
    "%time result = py_einsum(a, b)"
   ],
   "metadata": {
    "collapsed": false
   }
  },
  {
   "cell_type": "code",
   "execution_count": 117,
   "outputs": [],
   "source": [
    "a = np.random.random((60,60))\n",
    "b = np.random.random((60,60))\n",
    "ab = np.kron(a,b)\n",
    "abe = np.einsum('ik,jl', a, b).reshape(3600,3600)"
   ],
   "metadata": {
    "collapsed": false
   }
  },
  {
   "cell_type": "code",
   "execution_count": 118,
   "outputs": [
    {
     "data": {
      "text/plain": "array([[ True,  True,  True, ...,  True,  True,  True],\n       [ True,  True,  True, ...,  True,  True,  True],\n       [ True,  True,  True, ...,  True,  True,  True],\n       ...,\n       [ True,  True,  True, ...,  True,  True,  True],\n       [ True,  True,  True, ...,  True,  True,  True],\n       [ True,  True,  True, ...,  True,  True,  True]])"
     },
     "execution_count": 118,
     "metadata": {},
     "output_type": "execute_result"
    }
   ],
   "source": [],
   "metadata": {
    "collapsed": false
   }
  },
  {
   "cell_type": "code",
   "execution_count": 105,
   "outputs": [],
   "source": [
    "default_matrix = np.array([[0, 1, 0],\n",
    "                          [1, 0, 0],\n",
    "                          [0, 0, 1]], dtype=complex)"
   ],
   "metadata": {
    "collapsed": false
   }
  },
  {
   "cell_type": "code",
   "execution_count": 103,
   "outputs": [
    {
     "ename": "ValueError",
     "evalue": "cannot reshape array of size 9 into shape (2,2)",
     "output_type": "error",
     "traceback": [
      "\u001B[1;31m---------------------------------------------------------------------------\u001B[0m",
      "\u001B[1;31mValueError\u001B[0m                                Traceback (most recent call last)",
      "Cell \u001B[1;32mIn[103], line 1\u001B[0m\n\u001B[1;32m----> 1\u001B[0m \u001B[43mnp\u001B[49m\u001B[38;5;241;43m.\u001B[39;49m\u001B[43mreshape\u001B[49m\u001B[43m(\u001B[49m\u001B[43mdefault_matrix\u001B[49m\u001B[43m,\u001B[49m\u001B[43m \u001B[49m\u001B[38;5;241;43m1\u001B[39;49m\u001B[43m \u001B[49m\u001B[38;5;241;43m*\u001B[39;49m\u001B[43m \u001B[49m\u001B[43m[\u001B[49m\u001B[38;5;241;43m2\u001B[39;49m\u001B[43m,\u001B[49m\u001B[38;5;241;43m2\u001B[39;49m\u001B[43m]\u001B[49m\u001B[43m)\u001B[49m\n",
      "File \u001B[1;32m<__array_function__ internals>:180\u001B[0m, in \u001B[0;36mreshape\u001B[1;34m(*args, **kwargs)\u001B[0m\n",
      "File \u001B[1;32m~\\Documents\\GitHub\\qutrit\\venv\\lib\\site-packages\\numpy\\core\\fromnumeric.py:298\u001B[0m, in \u001B[0;36mreshape\u001B[1;34m(a, newshape, order)\u001B[0m\n\u001B[0;32m    198\u001B[0m \u001B[38;5;129m@array_function_dispatch\u001B[39m(_reshape_dispatcher)\n\u001B[0;32m    199\u001B[0m \u001B[38;5;28;01mdef\u001B[39;00m \u001B[38;5;21mreshape\u001B[39m(a, newshape, order\u001B[38;5;241m=\u001B[39m\u001B[38;5;124m'\u001B[39m\u001B[38;5;124mC\u001B[39m\u001B[38;5;124m'\u001B[39m):\n\u001B[0;32m    200\u001B[0m \u001B[38;5;250m    \u001B[39m\u001B[38;5;124;03m\"\"\"\u001B[39;00m\n\u001B[0;32m    201\u001B[0m \u001B[38;5;124;03m    Gives a new shape to an array without changing its data.\u001B[39;00m\n\u001B[0;32m    202\u001B[0m \n\u001B[1;32m   (...)\u001B[0m\n\u001B[0;32m    296\u001B[0m \u001B[38;5;124;03m           [5, 6]])\u001B[39;00m\n\u001B[0;32m    297\u001B[0m \u001B[38;5;124;03m    \"\"\"\u001B[39;00m\n\u001B[1;32m--> 298\u001B[0m     \u001B[38;5;28;01mreturn\u001B[39;00m \u001B[43m_wrapfunc\u001B[49m\u001B[43m(\u001B[49m\u001B[43ma\u001B[49m\u001B[43m,\u001B[49m\u001B[43m \u001B[49m\u001B[38;5;124;43m'\u001B[39;49m\u001B[38;5;124;43mreshape\u001B[39;49m\u001B[38;5;124;43m'\u001B[39;49m\u001B[43m,\u001B[49m\u001B[43m \u001B[49m\u001B[43mnewshape\u001B[49m\u001B[43m,\u001B[49m\u001B[43m \u001B[49m\u001B[43morder\u001B[49m\u001B[38;5;241;43m=\u001B[39;49m\u001B[43morder\u001B[49m\u001B[43m)\u001B[49m\n",
      "File \u001B[1;32m~\\Documents\\GitHub\\qutrit\\venv\\lib\\site-packages\\numpy\\core\\fromnumeric.py:57\u001B[0m, in \u001B[0;36m_wrapfunc\u001B[1;34m(obj, method, *args, **kwds)\u001B[0m\n\u001B[0;32m     54\u001B[0m     \u001B[38;5;28;01mreturn\u001B[39;00m _wrapit(obj, method, \u001B[38;5;241m*\u001B[39margs, \u001B[38;5;241m*\u001B[39m\u001B[38;5;241m*\u001B[39mkwds)\n\u001B[0;32m     56\u001B[0m \u001B[38;5;28;01mtry\u001B[39;00m:\n\u001B[1;32m---> 57\u001B[0m     \u001B[38;5;28;01mreturn\u001B[39;00m bound(\u001B[38;5;241m*\u001B[39margs, \u001B[38;5;241m*\u001B[39m\u001B[38;5;241m*\u001B[39mkwds)\n\u001B[0;32m     58\u001B[0m \u001B[38;5;28;01mexcept\u001B[39;00m \u001B[38;5;167;01mTypeError\u001B[39;00m:\n\u001B[0;32m     59\u001B[0m     \u001B[38;5;66;03m# A TypeError occurs if the object does have such a method in its\u001B[39;00m\n\u001B[0;32m     60\u001B[0m     \u001B[38;5;66;03m# class, but its signature is not identical to that of NumPy's. This\u001B[39;00m\n\u001B[1;32m   (...)\u001B[0m\n\u001B[0;32m     64\u001B[0m     \u001B[38;5;66;03m# Call _wrapit from within the except clause to ensure a potential\u001B[39;00m\n\u001B[0;32m     65\u001B[0m     \u001B[38;5;66;03m# exception has a traceback chain.\u001B[39;00m\n\u001B[0;32m     66\u001B[0m     \u001B[38;5;28;01mreturn\u001B[39;00m _wrapit(obj, method, \u001B[38;5;241m*\u001B[39margs, \u001B[38;5;241m*\u001B[39m\u001B[38;5;241m*\u001B[39mkwds)\n",
      "\u001B[1;31mValueError\u001B[0m: cannot reshape array of size 9 into shape (2,2)"
     ]
    }
   ],
   "source": [
    "np.reshape(default_matrix, 1 * [2,2])"
   ],
   "metadata": {
    "collapsed": false
   }
  },
  {
   "cell_type": "code",
   "execution_count": 91,
   "outputs": [
    {
     "data": {
      "text/plain": "array([[0., 0., 0., 1., 0., 0., 0., 0., 0.],\n       [0., 0., 0., 0., 1., 0., 0., 0., 0.],\n       [0., 0., 0., 0., 0., 1., 0., 0., 0.],\n       [1., 0., 0., 0., 0., 0., 0., 0., 0.],\n       [0., 1., 0., 0., 0., 0., 0., 0., 0.],\n       [0., 0., 1., 0., 0., 0., 0., 0., 0.],\n       [0., 0., 0., 0., 0., 0., 1., 0., 0.],\n       [0., 0., 0., 0., 0., 0., 0., 1., 0.],\n       [0., 0., 0., 0., 0., 0., 0., 0., 1.]])"
     },
     "execution_count": 91,
     "metadata": {},
     "output_type": "execute_result"
    }
   ],
   "source": [
    "np.kron(default_matrix, np.eye(3))"
   ],
   "metadata": {
    "collapsed": false
   }
  },
  {
   "cell_type": "code",
   "execution_count": 13,
   "outputs": [],
   "source": [
    "init_printing(use_unicode=False, wrap_line=False)\n",
    "phi1 = symbols(\"varphi_1\")\n",
    "phi2 = symbols(\"varphi_2\")\n",
    "phi3 = symbols(\"varphi_3\")\n",
    "phi4 = symbols(\"varphi_4\")\n",
    "phi5 = symbols(\"varphi_5\")\n",
    "theta1 = symbols(\"theta_1\")\n",
    "theta2 = symbols(\"theta_2\")\n",
    "theta3 = symbols(\"theta_3\")\n",
    "a, b, c, d, e, f, g, h, i = symbols(\"a b c d e f g h i\")"
   ],
   "metadata": {
    "collapsed": false
   }
  },
  {
   "cell_type": "code",
   "execution_count": 13,
   "outputs": [
    {
     "data": {
      "text/plain": "[a  b  c]\n[       ]\n[d  e  f]\n[       ]\n[g  h  i]",
      "text/latex": "$\\displaystyle \\left[\\begin{matrix}a & b & c\\\\d & e & f\\\\g & h & i\\end{matrix}\\right]$"
     },
     "execution_count": 13,
     "metadata": {},
     "output_type": "execute_result"
    }
   ],
   "source": [
    "U_matrix = Matrix([[a, b, c],\n",
    "                   [d, e, f],\n",
    "                   [g, h, i]]); U_matrix"
   ],
   "metadata": {
    "collapsed": false
   }
  },
  {
   "cell_type": "code",
   "execution_count": 14,
   "outputs": [],
   "source": [
    "M = Matrix([[sympy.exp(-1j * phi1 / 2), 0, 0],\n",
    "                         [0, sympy.exp(1j * phi1 / 2), 0],\n",
    "                         [0, 0, 1]])"
   ],
   "metadata": {
    "collapsed": false
   }
  },
  {
   "cell_type": "code",
   "execution_count": 38,
   "outputs": [],
   "source": [
    "U_D = Matrix([[sympy.exp(1j*phi1), 0, 0],\n",
    "              [0, sympy.exp(1j*phi2), 0],\n",
    "              [0, 0, sympy.exp(1j*phi3)]])\n",
    "P01 =  Matrix([[sympy.exp(1j * theta1), 0, 0],\n",
    "                [0, 1, 0],\n",
    "                [0, 0, 1]])\n",
    "P12 = Matrix([[1, 0, 0],\n",
    "                [0, 1, 0],\n",
    "                [0, 0, sympy.exp(1j * theta2)]])\n",
    "Z01 = Matrix([[sympy.exp(-1j * phi4 / 2), 0, 0],\n",
    "                [0, sympy.exp(1j * phi4 / 2), 0],\n",
    "                [0, 0, 1]])\n",
    "Z12 =  Matrix([[1, 0, 0],\n",
    "            [0, sympy.exp(-1j * phi5 / 2), 0],\n",
    "            [0, 0, sympy.exp(1j * phi5 / 2)]])"
   ],
   "metadata": {
    "collapsed": false
   }
  },
  {
   "cell_type": "code",
   "execution_count": 39,
   "outputs": [
    {
     "data": {
      "text/plain": "[ 1.0*I*theta_1                   ]\n[e               0        0       ]\n[                                 ]\n[      0         1        0       ]\n[                                 ]\n[                    1.0*I*theta_2]\n[      0         0  e             ]",
      "text/latex": "$\\displaystyle \\left[\\begin{matrix}e^{1.0 i \\theta_{1}} & 0 & 0\\\\0 & 1 & 0\\\\0 & 0 & e^{1.0 i \\theta_{2}}\\end{matrix}\\right]$"
     },
     "execution_count": 39,
     "metadata": {},
     "output_type": "execute_result"
    }
   ],
   "source": [
    "P = P01*P12; P"
   ],
   "metadata": {
    "collapsed": false
   }
  },
  {
   "cell_type": "code",
   "execution_count": 40,
   "outputs": [
    {
     "data": {
      "text/plain": "[ -1.0*I*varphi_4                                                   ]\n[e                                0                         0       ]\n[                                                                   ]\n[                   1.0*I*varphi_4  -1.0*I*varphi_5                 ]\n[       0          e              *e                        0       ]\n[                                                                   ]\n[                                                     1.0*I*varphi_5]\n[       0                         0                  e              ]",
      "text/latex": "$\\displaystyle \\left[\\begin{matrix}e^{- 1.0 i \\varphi_{4}} & 0 & 0\\\\0 & e^{1.0 i \\varphi_{4}} e^{- 1.0 i \\varphi_{5}} & 0\\\\0 & 0 & e^{1.0 i \\varphi_{5}}\\end{matrix}\\right]$"
     },
     "execution_count": 40,
     "metadata": {},
     "output_type": "execute_result"
    }
   ],
   "source": [
    "Z = Z01*Z12*Z01*Z12; Z"
   ],
   "metadata": {
    "collapsed": false
   }
  },
  {
   "cell_type": "code",
   "execution_count": 41,
   "outputs": [],
   "source": [
    "solution = solve(U_D-Z, [theta1, theta2])"
   ],
   "metadata": {
    "collapsed": false
   }
  },
  {
   "cell_type": "code",
   "execution_count": 42,
   "outputs": [
    {
     "data": {
      "text/plain": "[]",
      "image/png": "[encoded data removed]",
      "text/latex": "$\\displaystyle \\left[ \\right]$"
     },
     "execution_count": 42,
     "metadata": {},
     "output_type": "execute_result"
    }
   ],
   "source": [
    "solution"
   ],
   "metadata": {
    "collapsed": false
   }
  },
  {
   "cell_type": "code",
   "execution_count": 31,
   "outputs": [],
   "source": [
    "M1 = Matrix([[1, 0, 0],\n",
    "            [0, sympy.exp(-1j * phi2 / 2), 0],\n",
    "            [0, 0, sympy.exp(1j * phi2 / 2)]])"
   ],
   "metadata": {
    "collapsed": false
   }
  },
  {
   "cell_type": "code",
   "execution_count": 32,
   "outputs": [],
   "source": [
    "M2 = Matrix([[1, 0, 0],\n",
    "            [0, sympy.cos(theta1 / 2), -sympy.sin(theta1 / 2)],\n",
    "            [0, sympy.sin(theta1 / 2), sympy.cos(theta1 / 2)]])"
   ],
   "metadata": {
    "collapsed": false
   }
  },
  {
   "cell_type": "code",
   "execution_count": 33,
   "outputs": [],
   "source": [
    "M3 = Matrix([[sympy.cos(theta2 / 2), -sympy.sin(theta2 / 2), 0],\n",
    "            [sympy.sin(theta2 / 2), sympy.cos(theta2 / 2), 0],\n",
    "            [0, 0, 1]])"
   ],
   "metadata": {
    "collapsed": false
   }
  },
  {
   "cell_type": "code",
   "execution_count": 34,
   "outputs": [],
   "source": [
    "M4 = Matrix([[sympy.exp(-1j * phi3 / 2), 0, 0],\n",
    "                         [0, sympy.exp(1j * phi3 / 2), 0],\n",
    "                         [0, 0, 1]])"
   ],
   "metadata": {
    "collapsed": false
   }
  },
  {
   "cell_type": "code",
   "execution_count": 35,
   "outputs": [],
   "source": [
    "M5 = Matrix([[1, 0, 0],\n",
    "            [0, sympy.exp(-1j * phi4 / 2), 0],\n",
    "            [0, 0, sympy.exp(1j * phi4 / 2)]])"
   ],
   "metadata": {
    "collapsed": false
   }
  },
  {
   "cell_type": "code",
   "execution_count": 36,
   "outputs": [],
   "source": [
    "M6 = Matrix([[1, 0, 0],\n",
    "            [0, sympy.cos(theta3 / 2), -sympy.sin(theta3 / 2)],\n",
    "            [0, sympy.sin(theta3 / 2), sympy.cos(theta3 / 2)]])"
   ],
   "metadata": {
    "collapsed": false
   }
  },
  {
   "cell_type": "code",
   "execution_count": 37,
   "outputs": [],
   "source": [
    "M7 = Matrix([[sympy.exp(-1j * phi5 / 2), 0, 0],\n",
    "                         [0, sympy.exp(1j * phi5 / 2), 0],\n",
    "                         [0, 0, 1]])"
   ],
   "metadata": {
    "collapsed": false
   }
  },
  {
   "cell_type": "code",
   "execution_count": 38,
   "outputs": [],
   "source": [
    "M8 = Matrix([[1, 0, 0],\n",
    "            [0, sympy.exp(-1j * 2*phi5 / 2), 0],\n",
    "            [0, 0, sympy.exp(1j * 2*phi5 / 2)]])"
   ],
   "metadata": {
    "collapsed": false
   }
  },
  {
   "cell_type": "code",
   "execution_count": 39,
   "outputs": [],
   "source": [
    "U = M*M1*M2*M3*M4*M5*M6*M7*M8"
   ],
   "metadata": {
    "collapsed": false
   }
  },
  {
   "cell_type": "code",
   "execution_count": 43,
   "outputs": [
    {
     "data": {
      "text/plain": "[            -0.5*I*(varphi_1 + varphi_3 + varphi_5)    /theta_2\\                                                                                -0.5*I*(varphi_1 - varphi_3 + varphi_4 + varphi_5)    /theta_2\\    /theta_3\\                                                                                                                             I*(-0.5*varphi_1 + 0.5*varphi_3 - 0.5*varphi_4 + 1.0*varphi_5)    /theta_2\\    /theta_3\\                                                         ]\n[           e                                       *cos|-------|                                                                              -e                                                  *sin|-------|*cos|-------|                                                                                                                            e                                                              *sin|-------|*sin|-------|                                                         ]\n[                                                       \\   2   /                                                                                                                                      \\   2   /    \\   2   /                                                                                                                                                                                               \\   2   /    \\   2   /                                                         ]\n[                                                                                                                                                                                                                                                                                                                                                                                                                                                                                                          ]\n[ 0.5*I*(varphi_1 - varphi_2 - varphi_3 - varphi_5)    /theta_2\\    /theta_1\\  /   I*(0.5*varphi_1 + 0.5*varphi_2 + 1.0*varphi_4)    /theta_1\\    /theta_3\\    0.5*I*(varphi_1 + varphi_2 + varphi_3)    /theta_1\\    /theta_2\\    /theta_3\\\\  -I*(1.0*varphi_2 + 0.5*varphi_4 + 0.5*varphi_5)  /   I*(0.5*varphi_1 + 0.5*varphi_2 + 1.0*varphi_4)    /theta_1\\    /theta_3\\    0.5*I*(varphi_1 + varphi_2 + varphi_3)    /theta_3\\    /theta_1\\    /theta_2\\\\  I*(-varphi_2 - 0.5*varphi_4 + 1.0*varphi_5)]\n[e                                                 *sin|-------|*cos|-------|  |- e                                              *sin|-------|*sin|-------| + e                                      *cos|-------|*cos|-------|*cos|-------||*e                                                 |- e                                              *sin|-------|*cos|-------| - e                                      *sin|-------|*cos|-------|*cos|-------||*e                                           ]\n[                                                      \\   2   /    \\   2   /  \\                                                     \\   2   /    \\   2   /                                              \\   2   /    \\   2   /    \\   2   //                                                   \\                                                     \\   2   /    \\   2   /                                              \\   2   /    \\   2   /    \\   2   //                                             ]\n[                                                                                                                                                                                                                                                                                                                                                                                                                                                                                                          ]\n[      0.5*I*(varphi_2 - varphi_3 - varphi_5)    /theta_1\\    /theta_2\\                               / I*(0.5*varphi_2 + 1.0*varphi_4)    /theta_3\\    /theta_1\\    0.5*I*(varphi_2 + varphi_3)    /theta_1\\    /theta_2\\    /theta_3\\\\  -0.5*I*(varphi_4 + varphi_5)                                             / I*(0.5*varphi_2 + 1.0*varphi_4)    /theta_1\\    /theta_3\\    0.5*I*(varphi_2 + varphi_3)    /theta_1\\    /theta_3\\    /theta_2\\\\  I*(-0.5*varphi_4 + 1.0*varphi_5)                    ]\n[     e                                      *sin|-------|*sin|-------|                               |e                               *sin|-------|*cos|-------| + e                           *sin|-------|*cos|-------|*cos|-------||*e                                                                         |e                               *cos|-------|*cos|-------| - e                           *sin|-------|*sin|-------|*cos|-------||*e                                                    ]\n[                                                \\   2   /    \\   2   /                               \\                                    \\   2   /    \\   2   /                                   \\   2   /    \\   2   /    \\   2   //                                                                           \\                                    \\   2   /    \\   2   /                                   \\   2   /    \\   2   /    \\   2   //                                                      ]",
      "text/latex": "$\\displaystyle \\left[\\begin{matrix}e^{- 0.5 i \\left(\\varphi_{1} + \\varphi_{3} + \\varphi_{5}\\right)} \\cos{\\left(\\frac{\\theta_{2}}{2} \\right)} & - e^{- 0.5 i \\left(\\varphi_{1} - \\varphi_{3} + \\varphi_{4} + \\varphi_{5}\\right)} \\sin{\\left(\\frac{\\theta_{2}}{2} \\right)} \\cos{\\left(\\frac{\\theta_{3}}{2} \\right)} & e^{i \\left(- 0.5 \\varphi_{1} + 0.5 \\varphi_{3} - 0.5 \\varphi_{4} + 1.0 \\varphi_{5}\\right)} \\sin{\\left(\\frac{\\theta_{2}}{2} \\right)} \\sin{\\left(\\frac{\\theta_{3}}{2} \\right)}\\\\e^{0.5 i \\left(\\varphi_{1} - \\varphi_{2} - \\varphi_{3} - \\varphi_{5}\\right)} \\sin{\\left(\\frac{\\theta_{2}}{2} \\right)} \\cos{\\left(\\frac{\\theta_{1}}{2} \\right)} & \\left(- e^{i \\left(0.5 \\varphi_{1} + 0.5 \\varphi_{2} + 1.0 \\varphi_{4}\\right)} \\sin{\\left(\\frac{\\theta_{1}}{2} \\right)} \\sin{\\left(\\frac{\\theta_{3}}{2} \\right)} + e^{0.5 i \\left(\\varphi_{1} + \\varphi_{2} + \\varphi_{3}\\right)} \\cos{\\left(\\frac{\\theta_{1}}{2} \\right)} \\cos{\\left(\\frac{\\theta_{2}}{2} \\right)} \\cos{\\left(\\frac{\\theta_{3}}{2} \\right)}\\right) e^{- i \\left(1.0 \\varphi_{2} + 0.5 \\varphi_{4} + 0.5 \\varphi_{5}\\right)} & \\left(- e^{i \\left(0.5 \\varphi_{1} + 0.5 \\varphi_{2} + 1.0 \\varphi_{4}\\right)} \\sin{\\left(\\frac{\\theta_{1}}{2} \\right)} \\cos{\\left(\\frac{\\theta_{3}}{2} \\right)} - e^{0.5 i \\left(\\varphi_{1} + \\varphi_{2} + \\varphi_{3}\\right)} \\sin{\\left(\\frac{\\theta_{3}}{2} \\right)} \\cos{\\left(\\frac{\\theta_{1}}{2} \\right)} \\cos{\\left(\\frac{\\theta_{2}}{2} \\right)}\\right) e^{i \\left(- 1.0 \\varphi_{2} - 0.5 \\varphi_{4} + 1.0 \\varphi_{5}\\right)}\\\\e^{0.5 i \\left(\\varphi_{2} - \\varphi_{3} - \\varphi_{5}\\right)} \\sin{\\left(\\frac{\\theta_{1}}{2} \\right)} \\sin{\\left(\\frac{\\theta_{2}}{2} \\right)} & \\left(e^{i \\left(0.5 \\varphi_{2} + 1.0 \\varphi_{4}\\right)} \\sin{\\left(\\frac{\\theta_{3}}{2} \\right)} \\cos{\\left(\\frac{\\theta_{1}}{2} \\right)} + e^{0.5 i \\left(\\varphi_{2} + \\varphi_{3}\\right)} \\sin{\\left(\\frac{\\theta_{1}}{2} \\right)} \\cos{\\left(\\frac{\\theta_{2}}{2} \\right)} \\cos{\\left(\\frac{\\theta_{3}}{2} \\right)}\\right) e^{- 0.5 i \\left(\\varphi_{4} + \\varphi_{5}\\right)} & \\left(e^{i \\left(0.5 \\varphi_{2} + 1.0 \\varphi_{4}\\right)} \\cos{\\left(\\frac{\\theta_{1}}{2} \\right)} \\cos{\\left(\\frac{\\theta_{3}}{2} \\right)} - e^{0.5 i \\left(\\varphi_{2} + \\varphi_{3}\\right)} \\sin{\\left(\\frac{\\theta_{1}}{2} \\right)} \\sin{\\left(\\frac{\\theta_{3}}{2} \\right)} \\cos{\\left(\\frac{\\theta_{2}}{2} \\right)}\\right) e^{i \\left(- 0.5 \\varphi_{4} + 1.0 \\varphi_{5}\\right)}\\end{matrix}\\right]$"
     },
     "execution_count": 43,
     "metadata": {},
     "output_type": "execute_result"
    }
   ],
   "source": [
    "U.applyfunc(simplify)"
   ],
   "metadata": {
    "collapsed": false
   }
  },
  {
   "cell_type": "code",
   "execution_count": null,
   "outputs": [],
   "source": [
    "solution = solve(U_matrix-U, [phi1, phi2, phi3, phi4, phi5, theta1, theta2, theta3])"
   ],
   "metadata": {
    "collapsed": false
   }
  },
  {
   "cell_type": "code",
   "execution_count": null,
   "outputs": [],
   "source": [
    "solution[phi1]"
   ],
   "metadata": {
    "collapsed": false
   }
  },
  {
   "cell_type": "code",
   "execution_count": null,
   "outputs": [],
   "source": [
    "solution[phi1]"
   ],
   "metadata": {
    "collapsed": false
   }
  },
  {
   "cell_type": "code",
   "execution_count": 2,
   "outputs": [],
   "source": [
    "state_0 = [[1], [0], [0]]\n",
    "state_1 = [[0], [1], [0]]\n",
    "state_2 = [[0], [0], [1]]"
   ],
   "metadata": {
    "collapsed": false
   }
  },
  {
   "cell_type": "code",
   "execution_count": 24,
   "outputs": [],
   "source": [
    "A = state_0@np.transpose(state_1) + state_1@np.transpose(state_2) + state_2@np.transpose(state_0) #state_0@np.transpose(state_1) + state_2@np.transpose(state_2)"
   ],
   "metadata": {
    "collapsed": false
   }
  },
  {
   "cell_type": "code",
   "execution_count": 26,
   "outputs": [],
   "source": [
    "X01 = np.array([[0, 1, 0],\n",
    "                [1, 0, 0],\n",
    "                [0, 0, 1]])\n",
    "X12 = np.array([[1, 0, 0],\n",
    "                [0, 0, 1],\n",
    "                [0, 1, 0]])"
   ],
   "metadata": {
    "collapsed": false
   }
  },
  {
   "cell_type": "code",
   "execution_count": 36,
   "outputs": [],
   "source": [
    "state00 = np.kron(state_0, state_0)\n",
    "state01 = np.kron(state_0, state_1)\n",
    "state02 = np.kron(state_0, state_2)\n",
    "state10 = np.kron(state_1, state_0)\n",
    "state11 = np.kron(state_1, state_1)\n",
    "state12 = np.kron(state_1, state_2)\n",
    "state20 = np.kron(state_2, state_0)\n",
    "state21 = np.kron(state_2, state_1)\n",
    "state22 = np.kron(state_2, state_2)"
   ],
   "metadata": {
    "collapsed": false
   }
  },
  {
   "cell_type": "code",
   "execution_count": 39,
   "outputs": [],
   "source": [
    "B = 0.5*(state00@np.transpose(state00)) + 0.5*(state22@np.transpose(state22))"
   ],
   "metadata": {
    "collapsed": false
   }
  },
  {
   "cell_type": "code",
   "execution_count": 45,
   "outputs": [
    {
     "data": {
      "text/plain": "0.5"
     },
     "execution_count": 45,
     "metadata": {},
     "output_type": "execute_result"
    }
   ],
   "source": [
    "np.trace(state00@np.transpose(state00)@B)"
   ],
   "metadata": {
    "collapsed": false
   }
  },
  {
   "cell_type": "code",
   "execution_count": 64,
   "outputs": [],
   "source": [
    "q0 = state_0\n",
    "q1 = state_0\n",
    "#q2 = state_0\n",
    "\n",
    "first = (state_0@np.transpose(state_0)@ q0) + (state_1@np.transpose(state_1) @ q0) + (state_2@np.transpose(state_2) @ q0)\n",
    "second = np.eye(3)@q1 + (X12@X01)@q1 + (X01@X12)@q1\n",
    "state = np.kron(first, second)"
   ],
   "metadata": {
    "collapsed": false
   }
  },
  {
   "cell_type": "code",
   "execution_count": 65,
   "outputs": [
    {
     "data": {
      "text/plain": "array([[1.],\n       [1.],\n       [1.],\n       [0.],\n       [0.],\n       [0.],\n       [0.],\n       [0.],\n       [0.]])"
     },
     "execution_count": 65,
     "metadata": {},
     "output_type": "execute_result"
    }
   ],
   "source": [
    "state"
   ],
   "metadata": {
    "collapsed": false
   }
  },
  {
   "cell_type": "code",
   "execution_count": 40,
   "outputs": [],
   "source": [
    "C = np.kron(state_0@np.transpose(state_0), np.eye(3)) +\\\n",
    "np.kron(state_1@np.transpose(state_1), X01@X12) +\\\n",
    "np.kron(state_2@np.transpose(state_2), X12@X01)"
   ],
   "metadata": {
    "collapsed": false
   }
  },
  {
   "cell_type": "code",
   "execution_count": 13,
   "outputs": [],
   "source": [
    "CNOT = state00@np.transpose(state00) +\\\n",
    "state01@np.transpose(state01) +\\\n",
    "state02@np.transpose(state02) +\\\n",
    "state10@np.transpose(state12) +\\\n",
    "state11@np.transpose(state10) +\\\n",
    "state12@np.transpose(state11) +\\\n",
    "state20@np.transpose(state21) +\\\n",
    "state21@np.transpose(state22) +\\\n",
    "state22@np.transpose(state20)"
   ],
   "metadata": {
    "collapsed": false
   }
  },
  {
   "cell_type": "code",
   "execution_count": 14,
   "outputs": [
    {
     "data": {
      "text/plain": "array([[1, 0, 0, 0, 0, 0, 0, 0, 0],\n       [0, 1, 0, 0, 0, 0, 0, 0, 0],\n       [0, 0, 1, 0, 0, 0, 0, 0, 0],\n       [0, 0, 0, 0, 0, 1, 0, 0, 0],\n       [0, 0, 0, 1, 0, 0, 0, 0, 0],\n       [0, 0, 0, 0, 1, 0, 0, 0, 0],\n       [0, 0, 0, 0, 0, 0, 0, 1, 0],\n       [0, 0, 0, 0, 0, 0, 0, 0, 1],\n       [0, 0, 0, 0, 0, 0, 1, 0, 0]])"
     },
     "execution_count": 14,
     "metadata": {},
     "output_type": "execute_result"
    }
   ],
   "source": [
    "CNOT"
   ],
   "metadata": {
    "collapsed": false
   }
  },
  {
   "cell_type": "code",
   "execution_count": 18,
   "outputs": [],
   "source": [
    "def U_D(phi_i, phi_j, phi_k):\n",
    "    return np.array([[np.exp(1j*phi_i), 0, 0],\n",
    "                     [0, np.exp(1j*phi_j), 0],\n",
    "                     [0, 0, np.exp(1j*phi_k)]])"
   ],
   "metadata": {
    "collapsed": false
   }
  },
  {
   "cell_type": "code",
   "execution_count": 19,
   "outputs": [],
   "source": [
    "def rx01(parameter):\n",
    "    return np.array([[np.cos(parameter / 2), -1j * np.sin(parameter / 2), 0],\n",
    "                    [-1j * np.sin(parameter / 2), np.cos(parameter / 2), 0],\n",
    "                    [0, 0, 1]])"
   ],
   "metadata": {
    "collapsed": false
   }
  },
  {
   "cell_type": "code",
   "execution_count": 20,
   "outputs": [],
   "source": [
    "def rx12(parameter):\n",
    "    return np.array([[1, 0, 0],\n",
    "                    [0, np.cos(parameter / 2), -1j * np.sin(parameter / 2)],\n",
    "                    [0, -1j * np.sin(parameter / 2), np.cos(parameter / 2)]])"
   ],
   "metadata": {
    "collapsed": false
   }
  },
  {
   "cell_type": "code",
   "execution_count": 21,
   "outputs": [],
   "source": [
    "def P01(parameter):\n",
    "    return np.array([[np.exp(1j*parameter), 0, 0],\n",
    "                    [0, 1, 0],\n",
    "                    [0, 0, 1]])"
   ],
   "metadata": {
    "collapsed": false
   }
  },
  {
   "cell_type": "code",
   "execution_count": 22,
   "outputs": [],
   "source": [
    "def P12(parameter):\n",
    "    return np.array([[1, 0, 0],\n",
    "                    [0, 1, 0],\n",
    "                    [0, 0, np.exp(1j*parameter)]])"
   ],
   "metadata": {
    "collapsed": false
   }
  },
  {
   "cell_type": "code",
   "execution_count": 23,
   "outputs": [],
   "source": [
    "def R_01_offset(theta, phi):\n",
    "    return P01(-phi)@rx01(theta)@P01(phi)"
   ],
   "metadata": {
    "collapsed": false
   }
  },
  {
   "cell_type": "code",
   "execution_count": 24,
   "outputs": [],
   "source": [
    "def R_12_offset(theta, phi):\n",
    "    return P12(phi)@rx12(theta)@P12(-phi)"
   ],
   "metadata": {
    "collapsed": false
   }
  },
  {
   "cell_type": "code",
   "execution_count": 17,
   "outputs": [],
   "source": [
    "def get_parameter(U):\n",
    "    if abs(np.absolute(U[2, 2]) - 1) < 1e-6:\n",
    "        theta_1 = phi_1 = theta_2 = phi_2 = 0\n",
    "        phi_4 = np.angle(U[2, 2])\n",
    "        phi_5 = np.angle(U[1, 1])\n",
    "        phi_6 = np.angle(U[0, 0])\n",
    "        # phi_3 = phi_6 - pi/2 - np.angle(U[0, 1])\n",
    "        phi_3 = np.angle(U[1, 0]) - phi_5 + pi/2\n",
    "        theta_3 = 2*np.arccos(np.absolute(U[1, 1]))\n",
    "    else:\n",
    "        phi_4 = np.angle(U[2, 2])\n",
    "        theta_2 = 2*np.arccos(np.round(np.absolute(U[2, 2]), 6))\n",
    "        phi_2 = np.angle(U[2, 1]) - phi_4 + pi/2\n",
    "        phi_1 = np.angle(-U[2, 0]) - phi_2 - phi_4\n",
    "        theta_1 = 2*np.arccos(np.round(np.absolute(U[2, 1])/np.sin(theta_2/2), 6))\n",
    "        theta_3 = 2*np.arccos(np.round(np.absolute(U[1, 2])/np.sin(theta_2/2), 6))\n",
    "        phi_5 = np.angle(U[1, 2]) + phi_2 + pi/2\n",
    "        phi_3 = np.angle(np.cos(theta_1/2) * np.cos(theta_2/2) * np.cos(theta_3/2) - U[1, 1]*np.exp(-1j*phi_5)) + phi_1\n",
    "        phi_6 = np.angle(-U[0, 2]) + phi_3 + phi_2\n",
    "    return theta_1, theta_2, theta_3, phi_1, phi_2, phi_3, phi_4, phi_5, phi_6\n",
    "\n",
    "def reconstruct(theta_1, theta_2, theta_3, phi_1, phi_2, phi_3, phi_4, phi_5, phi_6):\n",
    "    return U_d(phi_6, phi_5, phi_4) @ R01(phi_3, theta_3) @ R12(phi_2, theta_2) @ R01(phi_1, theta_1)"
   ],
   "metadata": {
    "collapsed": false
   }
  }
 ],
 "metadata": {
  "kernelspec": {
   "display_name": "Python 3",
   "language": "python",
   "name": "python3"
  },
  "language_info": {
   "codemirror_mode": {
    "name": "ipython",
    "version": 3
   },
   "file_extension": ".py",
   "mimetype": "text/x-python",
   "name": "python",
   "nbconvert_exporter": "python",
   "pygments_lexer": "ipython3",
   "version": "3.9.6"
  }
 },
 "nbformat": 4,
 "nbformat_minor": 5
}

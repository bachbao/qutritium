{
 "cells": [
  {
   "cell_type": "code",
   "execution_count": null,
   "id": "71fcd4a1",
   "metadata": {
    "pycharm": {
     "is_executing": true
    }
   },
   "outputs": [],
   "source": [
    "import numpy as np"
   ]
  },
  {
   "cell_type": "code",
   "execution_count": 10,
   "id": "ebb55bac",
   "metadata": {},
   "outputs": [],
   "source": [
    "x = np.array([[0, 1], [1, 0]])\n",
    "y = np.eye(2)"
   ]
  },
  {
   "cell_type": "code",
   "execution_count": 13,
   "id": "645b248f",
   "metadata": {},
   "outputs": [
    {
     "data": {
      "text/plain": [
       "array([[0.],\n",
       "       [0.],\n",
       "       [1.],\n",
       "       [0.]])"
      ]
     },
     "execution_count": 13,
     "metadata": {},
     "output_type": "execute_result"
    }
   ],
   "source": [
    "np.kron(x,y)@[[1],[0],[0],[0]]"
   ]
  },
  {
   "cell_type": "code",
   "execution_count": null,
   "id": "1c328190",
   "metadata": {},
   "outputs": [],
   "source": [
    "import numpy as np\n",
    "\n",
    "# Define the quantum state\n",
    "state = np.array([1, 0, 1j, 0]) / np.sqrt(2)\n",
    "\n",
    "# Define the measurement basis\n",
    "basis = np.array([[1, 1], [1, -1]]) / np.sqrt(2)\n",
    "\n",
    "# Compute the probabilities of each outcome\n",
    "probabilities = np.abs(np.dot(basis, state))**2\n",
    "\n",
    "# Generate a random number to determine the outcome\n",
    "outcome = np.random.choice([0, 1], p=probabilities)\n",
    "\n",
    "# Apply the measurement operation\n",
    "measurement_result = np.dot(basis[outcome], state)\n"
   ]
  }
 ],
 "metadata": {
  "kernelspec": {
   "display_name": "Python 3",
   "language": "python",
   "name": "python3"
  },
  "language_info": {
   "codemirror_mode": {
    "name": "ipython",
    "version": 3
   },
   "file_extension": ".py",
   "mimetype": "text/x-python",
   "name": "python",
   "nbconvert_exporter": "python",
   "pygments_lexer": "ipython3",
   "version": "3.9.6"
  }
 },
 "nbformat": 4,
 "nbformat_minor": 5
}

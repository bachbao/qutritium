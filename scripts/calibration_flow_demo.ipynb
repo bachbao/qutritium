{
 "cells": [
  {
   "cell_type": "code",
   "execution_count": 1,
   "outputs": [
    {
     "name": "stdout",
     "output_type": "stream",
     "text": [
      "C:\\Users\\reach\\Coding\\qutritium\n"
     ]
    }
   ],
   "source": [
    "import os\n",
    "\n",
    "# get the current working directory\n",
    "current_dir = os.getcwd()\n",
    "\n",
    "# navigate to the parent directory\n",
    "os.chdir(os.path.abspath(os.path.join(current_dir, os.pardir)))\n",
    "print(os.getcwd())"
   ],
   "metadata": {
    "collapsed": false
   }
  },
  {
   "cell_type": "code",
   "execution_count": 2,
   "metadata": {
    "collapsed": true
   },
   "outputs": [],
   "source": [
    "from src.calibration.transmission_reflection import TR_01, TR_12\n",
    "from src.calibration.rough_rabi import Rough_Rabi01, Rough_Rabi12\n",
    "from src.calibration.drag_dephase import DragDP01, DragDP12\n",
    "from src.calibration.drag_leakage import DragLK01, DragLK12\n",
    "from src.pulse import Pulse01, Pulse12"
   ]
  },
  {
   "cell_type": "code",
   "execution_count": 3,
   "outputs": [
    {
     "name": "stdout",
     "output_type": "stream",
     "text": [
      "Job Status: job incurred error     \n"
     ]
    },
    {
     "ename": "IBMQJobApiError",
     "evalue": "\"Unable to retrieve result for job cgr5tentpqad7tsvgda0: 'results'\"",
     "output_type": "error",
     "traceback": [
      "\u001B[1;31m---------------------------------------------------------------------------\u001B[0m",
      "\u001B[1;31mKeyError\u001B[0m                                  Traceback (most recent call last)",
      "File \u001B[1;32m~\\Coding\\qutritium\\venv\\lib\\site-packages\\qiskit\\providers\\ibmq\\job\\ibmqjob.py:979\u001B[0m, in \u001B[0;36mIBMQJob._set_result\u001B[1;34m(self, raw_data)\u001B[0m\n\u001B[0;32m    978\u001B[0m \u001B[38;5;28;01mtry\u001B[39;00m:\n\u001B[1;32m--> 979\u001B[0m     \u001B[38;5;28mself\u001B[39m\u001B[38;5;241m.\u001B[39m_result \u001B[38;5;241m=\u001B[39m \u001B[43mResult\u001B[49m\u001B[38;5;241;43m.\u001B[39;49m\u001B[43mfrom_dict\u001B[49m\u001B[43m(\u001B[49m\u001B[43mraw_data\u001B[49m\u001B[43m)\u001B[49m\n\u001B[0;32m    980\u001B[0m \u001B[38;5;28;01mexcept\u001B[39;00m (\u001B[38;5;167;01mKeyError\u001B[39;00m, \u001B[38;5;167;01mTypeError\u001B[39;00m) \u001B[38;5;28;01mas\u001B[39;00m err:\n",
      "File \u001B[1;32m~\\Coding\\qutritium\\venv\\lib\\site-packages\\qiskit\\result\\result.py:133\u001B[0m, in \u001B[0;36mResult.from_dict\u001B[1;34m(cls, data)\u001B[0m\n\u001B[0;32m    132\u001B[0m in_data \u001B[38;5;241m=\u001B[39m copy\u001B[38;5;241m.\u001B[39mcopy(data)\n\u001B[1;32m--> 133\u001B[0m in_data[\u001B[38;5;124m\"\u001B[39m\u001B[38;5;124mresults\u001B[39m\u001B[38;5;124m\"\u001B[39m] \u001B[38;5;241m=\u001B[39m [ExperimentResult\u001B[38;5;241m.\u001B[39mfrom_dict(x) \u001B[38;5;28;01mfor\u001B[39;00m x \u001B[38;5;129;01min\u001B[39;00m \u001B[43min_data\u001B[49m\u001B[38;5;241;43m.\u001B[39;49m\u001B[43mpop\u001B[49m\u001B[43m(\u001B[49m\u001B[38;5;124;43m\"\u001B[39;49m\u001B[38;5;124;43mresults\u001B[39;49m\u001B[38;5;124;43m\"\u001B[39;49m\u001B[43m)\u001B[49m]\n\u001B[0;32m    134\u001B[0m \u001B[38;5;28;01mif\u001B[39;00m in_data\u001B[38;5;241m.\u001B[39mget(\u001B[38;5;124m\"\u001B[39m\u001B[38;5;124mheader\u001B[39m\u001B[38;5;124m\"\u001B[39m) \u001B[38;5;129;01mis\u001B[39;00m \u001B[38;5;129;01mnot\u001B[39;00m \u001B[38;5;28;01mNone\u001B[39;00m:\n",
      "\u001B[1;31mKeyError\u001B[0m: 'results'",
      "\nThe above exception was the direct cause of the following exception:\n",
      "\u001B[1;31mIBMQJobApiError\u001B[0m                           Traceback (most recent call last)",
      "Cell \u001B[1;32mIn[3], line 3\u001B[0m\n\u001B[0;32m      1\u001B[0m pulse01 \u001B[38;5;241m=\u001B[39m Pulse01(duration\u001B[38;5;241m=\u001B[39m\u001B[38;5;241m144\u001B[39m, x_amp\u001B[38;5;241m=\u001B[39m\u001B[38;5;241m0.2\u001B[39m)\n\u001B[0;32m      2\u001B[0m tr_01 \u001B[38;5;241m=\u001B[39m TR_01(pulse_model\u001B[38;5;241m=\u001B[39mpulse01)\n\u001B[1;32m----> 3\u001B[0m \u001B[43mtr_01\u001B[49m\u001B[38;5;241;43m.\u001B[39;49m\u001B[43mrun\u001B[49m\u001B[43m(\u001B[49m\u001B[43m)\u001B[49m\n\u001B[0;32m      4\u001B[0m \u001B[38;5;66;03m# tr_01.set_up()\u001B[39;00m\n\u001B[0;32m      5\u001B[0m \u001B[38;5;66;03m# tr_01.modify_pulse_model(job_id='642d24e06db55d37f0428c4a')\u001B[39;00m\n\u001B[0;32m      6\u001B[0m pulse01\n",
      "File \u001B[1;32m~\\Coding\\qutritium\\src\\calibration\\transmission_reflection.py:139\u001B[0m, in \u001B[0;36mTR_01.run\u001B[1;34m(self)\u001B[0m\n\u001B[0;32m    138\u001B[0m \u001B[38;5;28;01mdef\u001B[39;00m \u001B[38;5;21mrun\u001B[39m(\u001B[38;5;28mself\u001B[39m) \u001B[38;5;241m-\u001B[39m\u001B[38;5;241m>\u001B[39m \u001B[38;5;28;01mNone\u001B[39;00m:\n\u001B[1;32m--> 139\u001B[0m     \u001B[38;5;28;43msuper\u001B[39;49m\u001B[43m(\u001B[49m\u001B[43m)\u001B[49m\u001B[38;5;241;43m.\u001B[39;49m\u001B[43mrun\u001B[49m\u001B[43m(\u001B[49m\u001B[43m)\u001B[49m\n",
      "File \u001B[1;32m~\\Coding\\qutritium\\src\\calibration\\transmission_reflection.py:69\u001B[0m, in \u001B[0;36mTR.run\u001B[1;34m(self)\u001B[0m\n\u001B[0;32m     67\u001B[0m \u001B[38;5;28mself\u001B[39m\u001B[38;5;241m.\u001B[39mtr_create_circuit()\n\u001B[0;32m     68\u001B[0m \u001B[38;5;28mself\u001B[39m\u001B[38;5;241m.\u001B[39mrun_monitor()\n\u001B[1;32m---> 69\u001B[0m \u001B[38;5;28;43mself\u001B[39;49m\u001B[38;5;241;43m.\u001B[39;49m\u001B[43mmodify_pulse_model\u001B[49m\u001B[43m(\u001B[49m\u001B[43m)\u001B[49m\n\u001B[0;32m     70\u001B[0m \u001B[38;5;28mprint\u001B[39m(\u001B[38;5;124m\"\u001B[39m\u001B[38;5;124mProcess run successfully!\u001B[39m\u001B[38;5;124m\"\u001B[39m)\n",
      "File \u001B[1;32m~\\Coding\\qutritium\\src\\calibration\\transmission_reflection.py:178\u001B[0m, in \u001B[0;36mTR_01.modify_pulse_model\u001B[1;34m(self, job_id)\u001B[0m\n\u001B[0;32m    176\u001B[0m \u001B[38;5;28mself\u001B[39m\u001B[38;5;241m.\u001B[39mpulse_model: Pulse01\n\u001B[0;32m    177\u001B[0m \u001B[38;5;66;03m# Add frequency to pulse01\u001B[39;00m\n\u001B[1;32m--> 178\u001B[0m f01 \u001B[38;5;241m=\u001B[39m \u001B[38;5;28;43mself\u001B[39;49m\u001B[38;5;241;43m.\u001B[39;49m\u001B[43manalyze\u001B[49m\u001B[43m(\u001B[49m\u001B[43mjob_id\u001B[49m\u001B[38;5;241;43m=\u001B[39;49m\u001B[43mjob_id\u001B[49m\u001B[43m)\u001B[49m\n\u001B[0;32m    179\u001B[0m \u001B[38;5;28mself\u001B[39m\u001B[38;5;241m.\u001B[39mpulse_model\u001B[38;5;241m.\u001B[39mfrequency \u001B[38;5;241m=\u001B[39m f01\n",
      "File \u001B[1;32m~\\Coding\\qutritium\\src\\calibration\\transmission_reflection.py:109\u001B[0m, in \u001B[0;36mTR.analyze\u001B[1;34m(self, job_id)\u001B[0m\n\u001B[0;32m    106\u001B[0m     experiment \u001B[38;5;241m=\u001B[39m backend\u001B[38;5;241m.\u001B[39mretrieve_job(job_id)\n\u001B[0;32m    107\u001B[0m     analyzer \u001B[38;5;241m=\u001B[39m DataAnalysis(experiment\u001B[38;5;241m=\u001B[39mexperiment, num_shots\u001B[38;5;241m=\u001B[39m\u001B[38;5;28mself\u001B[39m\u001B[38;5;241m.\u001B[39mnum_shots)\n\u001B[1;32m--> 109\u001B[0m \u001B[43manalyzer\u001B[49m\u001B[38;5;241;43m.\u001B[39;49m\u001B[43mretrieve_data\u001B[49m\u001B[43m(\u001B[49m\u001B[43maverage\u001B[49m\u001B[38;5;241;43m=\u001B[39;49m\u001B[38;5;28;43;01mTrue\u001B[39;49;00m\u001B[43m)\u001B[49m\n\u001B[0;32m    110\u001B[0m fit_params, _ \u001B[38;5;241m=\u001B[39m fit_function(\u001B[38;5;28mself\u001B[39m\u001B[38;5;241m.\u001B[39mfreq_sweeping_range_ghz, analyzer\u001B[38;5;241m.\u001B[39mIQ_data,\n\u001B[0;32m    111\u001B[0m                              \u001B[38;5;28;01mlambda\u001B[39;00m x, c1, q_freq, c2, c3:\n\u001B[0;32m    112\u001B[0m                              (c1 \u001B[38;5;241m/\u001B[39m np\u001B[38;5;241m.\u001B[39mpi) \u001B[38;5;241m*\u001B[39m (c2 \u001B[38;5;241m/\u001B[39m ((x \u001B[38;5;241m-\u001B[39m q_freq) \u001B[38;5;241m*\u001B[39m\u001B[38;5;241m*\u001B[39m \u001B[38;5;241m2\u001B[39m \u001B[38;5;241m+\u001B[39m c2 \u001B[38;5;241m*\u001B[39m\u001B[38;5;241m*\u001B[39m \u001B[38;5;241m2\u001B[39m)) \u001B[38;5;241m+\u001B[39m c3,\n\u001B[0;32m    113\u001B[0m                              \u001B[38;5;28mself\u001B[39m\u001B[38;5;241m.\u001B[39mlambda_list)\n\u001B[0;32m    114\u001B[0m plot_name \u001B[38;5;241m=\u001B[39m \u001B[38;5;124mf\u001B[39m\u001B[38;5;124m'\u001B[39m\u001B[38;5;124mTR_\u001B[39m\u001B[38;5;132;01m{\u001B[39;00m\u001B[38;5;28mself\u001B[39m\u001B[38;5;241m.\u001B[39mpulse_model\u001B[38;5;241m.\u001B[39m\u001B[38;5;18m__class__\u001B[39m\u001B[38;5;241m.\u001B[39m\u001B[38;5;18m__name__\u001B[39m\u001B[38;5;132;01m}\u001B[39;00m\u001B[38;5;124m.png\u001B[39m\u001B[38;5;124m'\u001B[39m\n",
      "File \u001B[1;32m~\\Coding\\qutritium\\src\\analyzer.py:48\u001B[0m, in \u001B[0;36mDataAnalysis.retrieve_data\u001B[1;34m(self, average)\u001B[0m\n\u001B[0;32m     38\u001B[0m \u001B[38;5;28;01mdef\u001B[39;00m \u001B[38;5;21mretrieve_data\u001B[39m(\u001B[38;5;28mself\u001B[39m, average: \u001B[38;5;28mbool\u001B[39m) \u001B[38;5;241m-\u001B[39m\u001B[38;5;241m>\u001B[39m \u001B[38;5;28;01mNone\u001B[39;00m:\n\u001B[0;32m     39\u001B[0m \u001B[38;5;250m    \u001B[39m\u001B[38;5;124;03m\"\"\"retrievedData\u001B[39;00m\n\u001B[0;32m     40\u001B[0m \n\u001B[0;32m     41\u001B[0m \u001B[38;5;124;03m    Retrieve data from experiment\u001B[39;00m\n\u001B[1;32m   (...)\u001B[0m\n\u001B[0;32m     46\u001B[0m \u001B[38;5;124;03m        list: IQ_data ?\u001B[39;00m\n\u001B[0;32m     47\u001B[0m \u001B[38;5;124;03m    \"\"\"\u001B[39;00m\n\u001B[1;32m---> 48\u001B[0m     experiment_results \u001B[38;5;241m=\u001B[39m \u001B[38;5;28;43mself\u001B[39;49m\u001B[38;5;241;43m.\u001B[39;49m\u001B[43mexperiment\u001B[49m\u001B[38;5;241;43m.\u001B[39;49m\u001B[43mresult\u001B[49m\u001B[43m(\u001B[49m\u001B[43mtimeout\u001B[49m\u001B[38;5;241;43m=\u001B[39;49m\u001B[38;5;241;43m120\u001B[39;49m\u001B[43m)\u001B[49m\n\u001B[0;32m     49\u001B[0m     \u001B[38;5;28mself\u001B[39m\u001B[38;5;241m.\u001B[39mIQ_data \u001B[38;5;241m=\u001B[39m []\n\u001B[0;32m     50\u001B[0m     \u001B[38;5;28;01mfor\u001B[39;00m i \u001B[38;5;129;01min\u001B[39;00m \u001B[38;5;28mrange\u001B[39m(\u001B[38;5;28mlen\u001B[39m(experiment_results\u001B[38;5;241m.\u001B[39mresults)):\n",
      "File \u001B[1;32m~\\Coding\\qutritium\\venv\\lib\\site-packages\\qiskit\\providers\\ibmq\\job\\ibmqjob.py:285\u001B[0m, in \u001B[0;36mIBMQJob.result\u001B[1;34m(self, timeout, wait, partial, refresh)\u001B[0m\n\u001B[0;32m    283\u001B[0m     \u001B[38;5;28mself\u001B[39m\u001B[38;5;241m.\u001B[39m_retrieve_result(refresh\u001B[38;5;241m=\u001B[39mrefresh)\n\u001B[0;32m    284\u001B[0m \u001B[38;5;28;01mif\u001B[39;00m \u001B[38;5;129;01mnot\u001B[39;00m partial \u001B[38;5;129;01mor\u001B[39;00m \u001B[38;5;129;01mnot\u001B[39;00m \u001B[38;5;28mself\u001B[39m\u001B[38;5;241m.\u001B[39m_result \u001B[38;5;129;01mor\u001B[39;00m \u001B[38;5;129;01mnot\u001B[39;00m \u001B[38;5;28mself\u001B[39m\u001B[38;5;241m.\u001B[39m_result\u001B[38;5;241m.\u001B[39mresults:\n\u001B[1;32m--> 285\u001B[0m     error_message \u001B[38;5;241m=\u001B[39m \u001B[38;5;28;43mself\u001B[39;49m\u001B[38;5;241;43m.\u001B[39;49m\u001B[43merror_message\u001B[49m\u001B[43m(\u001B[49m\u001B[43m)\u001B[49m\n\u001B[0;32m    286\u001B[0m     \u001B[38;5;28;01mif\u001B[39;00m \u001B[38;5;124m'\u001B[39m\u001B[38;5;130;01m\\n\u001B[39;00m\u001B[38;5;124m'\u001B[39m \u001B[38;5;129;01min\u001B[39;00m error_message:\n\u001B[0;32m    287\u001B[0m         error_message \u001B[38;5;241m=\u001B[39m \u001B[38;5;124m\"\u001B[39m\u001B[38;5;124m. Use the error_message() method to get more details\u001B[39m\u001B[38;5;124m\"\u001B[39m\n",
      "File \u001B[1;32m~\\Coding\\qutritium\\venv\\lib\\site-packages\\qiskit\\providers\\ibmq\\job\\ibmqjob.py:525\u001B[0m, in \u001B[0;36mIBMQJob.error_message\u001B[1;34m(self)\u001B[0m\n\u001B[0;32m    521\u001B[0m     \u001B[38;5;28;01mreturn\u001B[39;00m \u001B[38;5;28;01mNone\u001B[39;00m\n\u001B[0;32m    523\u001B[0m \u001B[38;5;28;01mif\u001B[39;00m \u001B[38;5;129;01mnot\u001B[39;00m \u001B[38;5;28mself\u001B[39m\u001B[38;5;241m.\u001B[39m_job_error_msg:\n\u001B[0;32m    524\u001B[0m     \u001B[38;5;66;03m# First try getting error messages from the result.\u001B[39;00m\n\u001B[1;32m--> 525\u001B[0m     \u001B[38;5;28;43mself\u001B[39;49m\u001B[38;5;241;43m.\u001B[39;49m\u001B[43m_retrieve_result\u001B[49m\u001B[43m(\u001B[49m\u001B[43m)\u001B[49m\n\u001B[0;32m    527\u001B[0m \u001B[38;5;28;01mif\u001B[39;00m \u001B[38;5;129;01mnot\u001B[39;00m \u001B[38;5;28mself\u001B[39m\u001B[38;5;241m.\u001B[39m_job_error_msg:\n\u001B[0;32m    528\u001B[0m     \u001B[38;5;66;03m# Then try refreshing the job\u001B[39;00m\n\u001B[0;32m    529\u001B[0m     \u001B[38;5;28;01mif\u001B[39;00m \u001B[38;5;129;01mnot\u001B[39;00m \u001B[38;5;28mself\u001B[39m\u001B[38;5;241m.\u001B[39m_error:\n",
      "File \u001B[1;32m~\\Coding\\qutritium\\venv\\lib\\site-packages\\qiskit\\providers\\ibmq\\job\\ibmqjob.py:952\u001B[0m, in \u001B[0;36mIBMQJob._retrieve_result\u001B[1;34m(self, refresh)\u001B[0m\n\u001B[0;32m    949\u001B[0m \u001B[38;5;28;01mtry\u001B[39;00m:\n\u001B[0;32m    950\u001B[0m     result_response \u001B[38;5;241m=\u001B[39m \u001B[38;5;28mself\u001B[39m\u001B[38;5;241m.\u001B[39m_api_client\u001B[38;5;241m.\u001B[39mjob_result(\n\u001B[0;32m    951\u001B[0m         \u001B[38;5;28mself\u001B[39m\u001B[38;5;241m.\u001B[39mjob_id(), \u001B[38;5;28mself\u001B[39m\u001B[38;5;241m.\u001B[39m_use_object_storage)\n\u001B[1;32m--> 952\u001B[0m     \u001B[38;5;28;43mself\u001B[39;49m\u001B[38;5;241;43m.\u001B[39;49m\u001B[43m_set_result\u001B[49m\u001B[43m(\u001B[49m\u001B[43mresult_response\u001B[49m\u001B[43m)\u001B[49m\n\u001B[0;32m    953\u001B[0m     \u001B[38;5;28;01mif\u001B[39;00m \u001B[38;5;28mself\u001B[39m\u001B[38;5;241m.\u001B[39m_status \u001B[38;5;129;01mis\u001B[39;00m JobStatus\u001B[38;5;241m.\u001B[39mERROR:\n\u001B[0;32m    954\u001B[0m         \u001B[38;5;66;03m# Look for error message in result response.\u001B[39;00m\n\u001B[0;32m    955\u001B[0m         \u001B[38;5;28mself\u001B[39m\u001B[38;5;241m.\u001B[39m_check_for_error_message(result_response)\n",
      "File \u001B[1;32m~\\Coding\\qutritium\\venv\\lib\\site-packages\\qiskit\\providers\\ibmq\\job\\ibmqjob.py:985\u001B[0m, in \u001B[0;36mIBMQJob._set_result\u001B[1;34m(self, raw_data)\u001B[0m\n\u001B[0;32m    981\u001B[0m \u001B[38;5;28;01mif\u001B[39;00m \u001B[38;5;129;01mnot\u001B[39;00m \u001B[38;5;28mself\u001B[39m\u001B[38;5;241m.\u001B[39m_kind:\n\u001B[0;32m    982\u001B[0m     \u001B[38;5;28;01mraise\u001B[39;00m IBMQJobInvalidStateError(\n\u001B[0;32m    983\u001B[0m         \u001B[38;5;124m'\u001B[39m\u001B[38;5;124mUnable to retrieve result for job \u001B[39m\u001B[38;5;132;01m{}\u001B[39;00m\u001B[38;5;124m. Job result \u001B[39m\u001B[38;5;124m'\u001B[39m\n\u001B[0;32m    984\u001B[0m         \u001B[38;5;124m'\u001B[39m\u001B[38;5;124mis in an unsupported format.\u001B[39m\u001B[38;5;124m'\u001B[39m\u001B[38;5;241m.\u001B[39mformat(\u001B[38;5;28mself\u001B[39m\u001B[38;5;241m.\u001B[39mjob_id())) \u001B[38;5;28;01mfrom\u001B[39;00m \u001B[38;5;21;01merr\u001B[39;00m\n\u001B[1;32m--> 985\u001B[0m \u001B[38;5;28;01mraise\u001B[39;00m IBMQJobApiError(\n\u001B[0;32m    986\u001B[0m     \u001B[38;5;124m'\u001B[39m\u001B[38;5;124mUnable to retrieve result for \u001B[39m\u001B[38;5;124m'\u001B[39m\n\u001B[0;32m    987\u001B[0m     \u001B[38;5;124m'\u001B[39m\u001B[38;5;124mjob \u001B[39m\u001B[38;5;132;01m{}\u001B[39;00m\u001B[38;5;124m: \u001B[39m\u001B[38;5;132;01m{}\u001B[39;00m\u001B[38;5;124m'\u001B[39m\u001B[38;5;241m.\u001B[39mformat(\u001B[38;5;28mself\u001B[39m\u001B[38;5;241m.\u001B[39mjob_id(), \u001B[38;5;28mstr\u001B[39m(err))) \u001B[38;5;28;01mfrom\u001B[39;00m \u001B[38;5;21;01merr\u001B[39;00m\n",
      "\u001B[1;31mIBMQJobApiError\u001B[0m: \"Unable to retrieve result for job cgr5tentpqad7tsvgda0: 'results'\""
     ]
    }
   ],
   "source": [
    "pulse01 = Pulse01(duration=144, x_amp=0.2)\n",
    "tr_01 = TR_01(pulse_model=pulse01)\n",
    "tr_01.run()\n",
    "# tr_01.set_up()\n",
    "# tr_01.modify_pulse_model(job_id='642d24e06db55d37f0428c4a')\n",
    "pulse01"
   ],
   "metadata": {
    "collapsed": false
   }
  },
  {
   "cell_type": "code",
   "execution_count": 4,
   "outputs": [
    {
     "data": {
      "text/plain": "Pulse01: id=5ad104f7-ae7e-4b6d-b168-27ddf51447a8, frequency=4900000000.0, x_amp=0.27789268017955304, sx_amp=0, beta_dephase=0, beta_leakage=0, duration=144, sigma=36.0"
     },
     "execution_count": 4,
     "metadata": {},
     "output_type": "execute_result"
    }
   ],
   "source": [
    "rr_01 = Rough_Rabi01(pulse_model=pulse01)\n",
    "rr_01.run()\n",
    "# rr_01.modify_pulse_model(job_id='641c8fbc92197c3220e1b647')\n",
    "pulse01"
   ],
   "metadata": {
    "collapsed": false
   }
  },
  {
   "cell_type": "code",
   "execution_count": 5,
   "outputs": [
    {
     "data": {
      "text/plain": "Pulse12: id=9d28a464-6d49-4d40-923d-07a57b0b745c, frequency=4800000000.0, x_amp=Ellipsis, sx_amp=0, beta_dephase=0, beta_leakage=0, duration=144, sigma=36.0"
     },
     "execution_count": 5,
     "metadata": {},
     "output_type": "execute_result"
    }
   ],
   "source": [
    "pulse12 = Pulse12(pulse01=pulse01, duration=pulse01.duration, x_amp=pulse01.x_amp)\n",
    "tr_12 = TR_12(pulse_model=pulse12)\n",
    "# tr_12.set_up()\n",
    "tr_12.run()\n",
    "# tr_12.modify_pulse_model(job_id='641d860ccca68020ebc69bdf')\n",
    "pulse01.pulse12"
   ],
   "metadata": {
    "collapsed": false
   }
  },
  {
   "cell_type": "code",
   "execution_count": 6,
   "outputs": [
    {
     "data": {
      "text/plain": "Pulse12: id=9d28a464-6d49-4d40-923d-07a57b0b745c, frequency=4800000000.0, x_amp=0.28655972253635953, sx_amp=0, beta_dephase=0, beta_leakage=0, duration=144, sigma=36.0"
     },
     "execution_count": 6,
     "metadata": {},
     "output_type": "execute_result"
    }
   ],
   "source": [
    "rr_12 = Rough_Rabi12(pulse_model=pulse12)\n",
    "rr_12.run()\n",
    "# rr_12.modify_pulse_model(job_id='641dab4d92197c965be1b933')\n",
    "pulse12"
   ],
   "metadata": {
    "collapsed": false
   }
  },
  {
   "cell_type": "code",
   "execution_count": 7,
   "outputs": [
    {
     "data": {
      "text/plain": "Pulse01: id=5ad104f7-ae7e-4b6d-b168-27ddf51447a8, frequency=4900000000.0, x_amp=0.27789268017955304, sx_amp=0, beta_dephase=-0.08232604663723386, beta_leakage=0, duration=144, sigma=36.0"
     },
     "execution_count": 7,
     "metadata": {},
     "output_type": "execute_result"
    }
   ],
   "source": [
    "dp_01 = DragDP01(pulse_model=pulse01)\n",
    "# dp_01.run()\n",
    "dp_01.modify_pulse_model(job_id='6429b738a03cd270d5a9abf2')\n",
    "pulse01"
   ],
   "metadata": {
    "collapsed": false
   }
  },
  {
   "cell_type": "code",
   "execution_count": 8,
   "outputs": [
    {
     "data": {
      "text/plain": "Pulse01: id=5ad104f7-ae7e-4b6d-b168-27ddf51447a8, frequency=4900000000.0, x_amp=0.27789268017955304, sx_amp=0, beta_dephase=13.337712720581811, beta_leakage=0, duration=144, sigma=36.0"
     },
     "execution_count": 8,
     "metadata": {},
     "output_type": "execute_result"
    }
   ],
   "source": [
    "dl_01 = DragLK01(pulse_model=pulse01)\n",
    "# dp_01.run()\n",
    "dp_01.modify_pulse_model(job_id='642a4545369d4a3434d3c6b7')\n",
    "pulse01"
   ],
   "metadata": {
    "collapsed": false
   }
  },
  {
   "cell_type": "code",
   "execution_count": 9,
   "outputs": [
    {
     "name": "stdout",
     "output_type": "stream",
     "text": [
      "Job Status: job has successfully run\n",
      "Process run successfully!\n"
     ]
    },
    {
     "data": {
      "text/plain": "Pulse12: id=9d28a464-6d49-4d40-923d-07a57b0b745c, frequency=4800000000.0, x_amp=0.28655972253635953, sx_amp=0, beta_dephase=-0.5691707339668158, beta_leakage=0, duration=144, sigma=36.0"
     },
     "execution_count": 9,
     "metadata": {},
     "output_type": "execute_result"
    }
   ],
   "source": [
    "dp_12 = DragDP12(pulse_model=pulse01.pulse12)\n",
    "dp_12.run()\n",
    "pulse01.pulse12"
   ],
   "metadata": {
    "collapsed": false
   }
  },
  {
   "cell_type": "code",
   "execution_count": 10,
   "outputs": [
    {
     "name": "stdout",
     "output_type": "stream",
     "text": [
      "Job Status: job has successfully run\n",
      "Process run successfully!\n"
     ]
    },
    {
     "data": {
      "text/plain": "Pulse12: id=9d28a464-6d49-4d40-923d-07a57b0b745c, frequency=4800000000.0, x_amp=0.28655972253635953, sx_amp=0, beta_dephase=-0.5691707339668158, beta_leakage=-3.709677419354839, duration=144, sigma=36.0"
     },
     "execution_count": 10,
     "metadata": {},
     "output_type": "execute_result"
    }
   ],
   "source": [
    "dl_12 = DragLK12(pulse_model=pulse01.pulse12)\n",
    "dl_12.run()\n",
    "pulse01.pulse12"
   ],
   "metadata": {
    "collapsed": false
   }
  },
  {
   "cell_type": "code",
   "execution_count": null,
   "outputs": [],
   "source": [],
   "metadata": {
    "collapsed": false
   }
  }
 ],
 "metadata": {
  "kernelspec": {
   "display_name": "Python 3",
   "language": "python",
   "name": "python3"
  },
  "language_info": {
   "codemirror_mode": {
    "name": "ipython",
    "version": 2
   },
   "file_extension": ".py",
   "mimetype": "text/x-python",
   "name": "python",
   "nbconvert_exporter": "python",
   "pygments_lexer": "ipython2",
   "version": "2.7.6"
  }
 },
 "nbformat": 4,
 "nbformat_minor": 0
}
